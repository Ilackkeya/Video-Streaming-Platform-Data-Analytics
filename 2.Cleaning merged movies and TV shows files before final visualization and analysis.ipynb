{
 "cells": [
  {
   "cell_type": "markdown",
   "id": "fc4ca44f-8728-48fe-8752-cd8db1f531df",
   "metadata": {},
   "source": [
    "### Cleaning merged movies and tv_shows.csv files before final visualization and analysis"
   ]
  },
  {
   "cell_type": "code",
   "execution_count": 1,
   "id": "1d657e11-c7a5-400a-9249-d997d88bc489",
   "metadata": {},
   "outputs": [],
   "source": [
    "import pandas as pd\n",
    "import numpy as np\n",
    "import warnings\n",
    "warnings.filterwarnings('ignore')"
   ]
  },
  {
   "cell_type": "markdown",
   "id": "491854a7-dae9-4a3b-baca-136b59976087",
   "metadata": {},
   "source": [
    "##### TV_SHOWS FILE CLEANING"
   ]
  },
  {
   "cell_type": "code",
   "execution_count": 2,
   "id": "7a70921d-67ff-4e97-bced-3f25ed46c28e",
   "metadata": {},
   "outputs": [],
   "source": [
    "tv_df= pd.read_csv('./Data_cleaning/tv_shows.csv')"
   ]
  },
  {
   "cell_type": "code",
   "execution_count": 3,
   "id": "f92162f3-97a3-4d07-bd03-1c7d2e4d2a4c",
   "metadata": {},
   "outputs": [
    {
     "data": {
      "text/html": [
       "<div>\n",
       "<style scoped>\n",
       "    .dataframe tbody tr th:only-of-type {\n",
       "        vertical-align: middle;\n",
       "    }\n",
       "\n",
       "    .dataframe tbody tr th {\n",
       "        vertical-align: top;\n",
       "    }\n",
       "\n",
       "    .dataframe thead th {\n",
       "        text-align: right;\n",
       "    }\n",
       "</style>\n",
       "<table border=\"1\" class=\"dataframe\">\n",
       "  <thead>\n",
       "    <tr style=\"text-align: right;\">\n",
       "      <th></th>\n",
       "      <th>type</th>\n",
       "      <th>title</th>\n",
       "      <th>release_year</th>\n",
       "      <th>rating</th>\n",
       "      <th>listed_in</th>\n",
       "      <th>streaming_platform</th>\n",
       "      <th>duration_seasons</th>\n",
       "      <th>date_added</th>\n",
       "      <th>Genre</th>\n",
       "    </tr>\n",
       "  </thead>\n",
       "  <tbody>\n",
       "    <tr>\n",
       "      <th>0</th>\n",
       "      <td>TV Show</td>\n",
       "      <td>Wipeout Canada</td>\n",
       "      <td>2011</td>\n",
       "      <td>ALL</td>\n",
       "      <td>Comedy, Documentary, Unscripted</td>\n",
       "      <td>Amazon Prime</td>\n",
       "      <td>1</td>\n",
       "      <td>NaN</td>\n",
       "      <td>Comedy/Romance</td>\n",
       "    </tr>\n",
       "    <tr>\n",
       "      <th>1</th>\n",
       "      <td>TV Show</td>\n",
       "      <td>Zoo Babies</td>\n",
       "      <td>2008</td>\n",
       "      <td>ALL</td>\n",
       "      <td>Kids, Special Interest</td>\n",
       "      <td>Amazon Prime</td>\n",
       "      <td>1</td>\n",
       "      <td>NaN</td>\n",
       "      <td>Family/Kids</td>\n",
       "    </tr>\n",
       "    <tr>\n",
       "      <th>2</th>\n",
       "      <td>TV Show</td>\n",
       "      <td>Zoë Coombs Marr: Bossy Bottom</td>\n",
       "      <td>2020</td>\n",
       "      <td>18+</td>\n",
       "      <td>Comedy, Talk Show and Variety</td>\n",
       "      <td>Amazon Prime</td>\n",
       "      <td>1</td>\n",
       "      <td>NaN</td>\n",
       "      <td>Comedy/Romance</td>\n",
       "    </tr>\n",
       "    <tr>\n",
       "      <th>3</th>\n",
       "      <td>TV Show</td>\n",
       "      <td>Zoboomafoo</td>\n",
       "      <td>2001</td>\n",
       "      <td>TV-Y</td>\n",
       "      <td>Kids</td>\n",
       "      <td>Amazon Prime</td>\n",
       "      <td>1</td>\n",
       "      <td>NaN</td>\n",
       "      <td>Family/Kids</td>\n",
       "    </tr>\n",
       "    <tr>\n",
       "      <th>4</th>\n",
       "      <td>TV Show</td>\n",
       "      <td>Zo Zo Zombie: Mini-Series</td>\n",
       "      <td>2020</td>\n",
       "      <td>TV-Y7</td>\n",
       "      <td>Action, Anime, Comedy</td>\n",
       "      <td>Amazon Prime</td>\n",
       "      <td>1</td>\n",
       "      <td>NaN</td>\n",
       "      <td>Action/Adventure</td>\n",
       "    </tr>\n",
       "  </tbody>\n",
       "</table>\n",
       "</div>"
      ],
      "text/plain": [
       "      type                          title  release_year rating  \\\n",
       "0  TV Show                 Wipeout Canada          2011    ALL   \n",
       "1  TV Show                     Zoo Babies          2008    ALL   \n",
       "2  TV Show  Zoë Coombs Marr: Bossy Bottom          2020    18+   \n",
       "3  TV Show                     Zoboomafoo          2001   TV-Y   \n",
       "4  TV Show      Zo Zo Zombie: Mini-Series          2020  TV-Y7   \n",
       "\n",
       "                         listed_in streaming_platform  duration_seasons  \\\n",
       "0  Comedy, Documentary, Unscripted       Amazon Prime                 1   \n",
       "1           Kids, Special Interest       Amazon Prime                 1   \n",
       "2    Comedy, Talk Show and Variety       Amazon Prime                 1   \n",
       "3                             Kids       Amazon Prime                 1   \n",
       "4            Action, Anime, Comedy       Amazon Prime                 1   \n",
       "\n",
       "  date_added             Genre  \n",
       "0        NaN    Comedy/Romance  \n",
       "1        NaN       Family/Kids  \n",
       "2        NaN    Comedy/Romance  \n",
       "3        NaN       Family/Kids  \n",
       "4        NaN  Action/Adventure  "
      ]
     },
     "execution_count": 3,
     "metadata": {},
     "output_type": "execute_result"
    }
   ],
   "source": [
    "tv_df.head()"
   ]
  },
  {
   "cell_type": "code",
   "execution_count": 4,
   "id": "70e8ed26-c3d7-4e6c-9dd4-f970dbad4e92",
   "metadata": {},
   "outputs": [
    {
     "name": "stdout",
     "output_type": "stream",
     "text": [
      "<class 'pandas.core.frame.DataFrame'>\n",
      "RangeIndex: 6076 entries, 0 to 6075\n",
      "Data columns (total 9 columns):\n",
      " #   Column              Non-Null Count  Dtype \n",
      "---  ------              --------------  ----- \n",
      " 0   type                6076 non-null   object\n",
      " 1   title               6076 non-null   object\n",
      " 2   release_year        6076 non-null   int64 \n",
      " 3   rating              6076 non-null   object\n",
      " 4   listed_in           6076 non-null   object\n",
      " 5   streaming_platform  6076 non-null   object\n",
      " 6   duration_seasons    6076 non-null   int64 \n",
      " 7   date_added          4401 non-null   object\n",
      " 8   Genre               6076 non-null   object\n",
      "dtypes: int64(2), object(7)\n",
      "memory usage: 427.3+ KB\n"
     ]
    }
   ],
   "source": [
    "tv_df.info()"
   ]
  },
  {
   "cell_type": "code",
   "execution_count": 5,
   "id": "6f34d7d2-6926-4e8a-a609-703a5f89dbd6",
   "metadata": {},
   "outputs": [
    {
     "data": {
      "text/html": [
       "<div>\n",
       "<style scoped>\n",
       "    .dataframe tbody tr th:only-of-type {\n",
       "        vertical-align: middle;\n",
       "    }\n",
       "\n",
       "    .dataframe tbody tr th {\n",
       "        vertical-align: top;\n",
       "    }\n",
       "\n",
       "    .dataframe thead th {\n",
       "        text-align: right;\n",
       "    }\n",
       "</style>\n",
       "<table border=\"1\" class=\"dataframe\">\n",
       "  <thead>\n",
       "    <tr style=\"text-align: right;\">\n",
       "      <th></th>\n",
       "      <th>release_year</th>\n",
       "      <th>duration_seasons</th>\n",
       "    </tr>\n",
       "  </thead>\n",
       "  <tbody>\n",
       "    <tr>\n",
       "      <th>count</th>\n",
       "      <td>6076.000000</td>\n",
       "      <td>6076.000000</td>\n",
       "    </tr>\n",
       "    <tr>\n",
       "      <th>mean</th>\n",
       "      <td>2014.804147</td>\n",
       "      <td>1.905201</td>\n",
       "    </tr>\n",
       "    <tr>\n",
       "      <th>std</th>\n",
       "      <td>8.288412</td>\n",
       "      <td>2.103941</td>\n",
       "    </tr>\n",
       "    <tr>\n",
       "      <th>min</th>\n",
       "      <td>1925.000000</td>\n",
       "      <td>1.000000</td>\n",
       "    </tr>\n",
       "    <tr>\n",
       "      <th>25%</th>\n",
       "      <td>2013.000000</td>\n",
       "      <td>1.000000</td>\n",
       "    </tr>\n",
       "    <tr>\n",
       "      <th>50%</th>\n",
       "      <td>2017.000000</td>\n",
       "      <td>1.000000</td>\n",
       "    </tr>\n",
       "    <tr>\n",
       "      <th>75%</th>\n",
       "      <td>2019.000000</td>\n",
       "      <td>2.000000</td>\n",
       "    </tr>\n",
       "    <tr>\n",
       "      <th>max</th>\n",
       "      <td>2021.000000</td>\n",
       "      <td>34.000000</td>\n",
       "    </tr>\n",
       "  </tbody>\n",
       "</table>\n",
       "</div>"
      ],
      "text/plain": [
       "       release_year  duration_seasons\n",
       "count   6076.000000       6076.000000\n",
       "mean    2014.804147          1.905201\n",
       "std        8.288412          2.103941\n",
       "min     1925.000000          1.000000\n",
       "25%     2013.000000          1.000000\n",
       "50%     2017.000000          1.000000\n",
       "75%     2019.000000          2.000000\n",
       "max     2021.000000         34.000000"
      ]
     },
     "execution_count": 5,
     "metadata": {},
     "output_type": "execute_result"
    }
   ],
   "source": [
    "tv_df.describe()"
   ]
  },
  {
   "cell_type": "markdown",
   "id": "2624ac94-701a-46d6-85b9-b604cdeb8b51",
   "metadata": {},
   "source": [
    "#### Checking for null values and Duplicates"
   ]
  },
  {
   "cell_type": "code",
   "execution_count": 6,
   "id": "37f4c756-0f99-4bde-b11b-dbd303d4bc51",
   "metadata": {},
   "outputs": [
    {
     "data": {
      "text/plain": [
       "type                     0\n",
       "title                    0\n",
       "release_year             0\n",
       "rating                   0\n",
       "listed_in                0\n",
       "streaming_platform       0\n",
       "duration_seasons         0\n",
       "date_added            1675\n",
       "Genre                    0\n",
       "dtype: int64"
      ]
     },
     "execution_count": 6,
     "metadata": {},
     "output_type": "execute_result"
    }
   ],
   "source": [
    "tv_df.isna().sum()"
   ]
  },
  {
   "cell_type": "code",
   "execution_count": 7,
   "id": "2ad2a11e-9aed-4baf-b4c0-5c4349aedf86",
   "metadata": {},
   "outputs": [
    {
     "data": {
      "text/plain": [
       "array([nan, 'October 20, 2021', 'October 16, 2021', ..., 'May 3, 2021',\n",
       "       'February 25, 2020', 'February 8, 2020'], dtype=object)"
      ]
     },
     "execution_count": 7,
     "metadata": {},
     "output_type": "execute_result"
    }
   ],
   "source": [
    "tv_df['date_added'].unique()"
   ]
  },
  {
   "cell_type": "markdown",
   "id": "45c2d846-4f32-40de-aa6a-1f73da5d15fc",
   "metadata": {},
   "source": [
    "#### Checking the distribution of the plot to determine strategy for imputation"
   ]
  },
  {
   "cell_type": "code",
   "execution_count": 8,
   "id": "745a4fa8-4f60-4247-8864-5e34f9c8f3f3",
   "metadata": {},
   "outputs": [
    {
     "data": {
      "image/png": "[encoded data removed]",
      "text/plain": [
       "<Figure size 500x500 with 1 Axes>"
      ]
     },
     "metadata": {},
     "output_type": "display_data"
    }
   ],
   "source": [
    "import matplotlib.pyplot as plt\n",
    "import seaborn as sns\n",
    "\n",
    "sns.displot(x= tv_df['date_added'].value_counts())\n",
    "plt.xlabel('Date_added values')\n",
    "plt.ylabel('Count')\n",
    "plt.title('Distribution of Date added column') \n",
    "sns.despine()"
   ]
  },
  {
   "cell_type": "markdown",
   "id": "05b528f4-1935-46ea-be75-2a412662256c",
   "metadata": {},
   "source": [
    "The distribution for the date_added column is right skewed and hence imputing the date with mode strategy "
   ]
  },
  {
   "cell_type": "markdown",
   "id": "5cd47c0a-a21c-4bf4-8ae3-75ad9c9fdf31",
   "metadata": {},
   "source": [
    "#### Imputing date_added column with mode strategy "
   ]
  },
  {
   "cell_type": "code",
   "execution_count": 9,
   "id": "e2b8e548-f14e-4b96-8890-1f135de7bac7",
   "metadata": {},
   "outputs": [],
   "source": [
    "from sklearn.impute import SimpleImputer # import the SimpleImputer class\n",
    "cat_imputer = SimpleImputer(strategy='most_frequent') \n",
    "tv_df.loc[:,'date_added'] = cat_imputer.fit_transform(tv_df['date_added'].values.reshape(-1, 1)).ravel()"
   ]
  },
  {
   "cell_type": "code",
   "execution_count": 10,
   "id": "dad19ee8-1fa8-46f1-a789-5b74f509ab85",
   "metadata": {},
   "outputs": [
    {
     "data": {
      "text/plain": [
       "type                  0\n",
       "title                 0\n",
       "release_year          0\n",
       "rating                0\n",
       "listed_in             0\n",
       "streaming_platform    0\n",
       "duration_seasons      0\n",
       "date_added            0\n",
       "Genre                 0\n",
       "dtype: int64"
      ]
     },
     "execution_count": 10,
     "metadata": {},
     "output_type": "execute_result"
    }
   ],
   "source": [
    "tv_df.isna().sum()"
   ]
  },
  {
   "cell_type": "markdown",
   "id": "fe93803d-3766-4375-a74b-560ed57a237d",
   "metadata": {},
   "source": [
    "Checking and dropping the duplicated rows"
   ]
  },
  {
   "cell_type": "code",
   "execution_count": 11,
   "id": "44a93eb6-fbcb-45b0-b88d-3b280d6adb5c",
   "metadata": {},
   "outputs": [
    {
     "data": {
      "text/plain": [
       "1"
      ]
     },
     "execution_count": 11,
     "metadata": {},
     "output_type": "execute_result"
    }
   ],
   "source": [
    "tv_df.duplicated().sum()"
   ]
  },
  {
   "cell_type": "code",
   "execution_count": 12,
   "id": "ec2c39f1-193f-48cd-bdd7-fefd1dedad5d",
   "metadata": {},
   "outputs": [],
   "source": [
    "tv_df_clean = tv_df.drop_duplicates()"
   ]
  },
  {
   "cell_type": "code",
   "execution_count": 13,
   "id": "2f56d3aa-331d-47c7-aae8-b130dcbe80d8",
   "metadata": {},
   "outputs": [
    {
     "name": "stdout",
     "output_type": "stream",
     "text": [
      "<class 'pandas.core.frame.DataFrame'>\n",
      "Index: 6075 entries, 0 to 6075\n",
      "Data columns (total 9 columns):\n",
      " #   Column              Non-Null Count  Dtype \n",
      "---  ------              --------------  ----- \n",
      " 0   type                6075 non-null   object\n",
      " 1   title               6075 non-null   object\n",
      " 2   release_year        6075 non-null   int64 \n",
      " 3   rating              6075 non-null   object\n",
      " 4   listed_in           6075 non-null   object\n",
      " 5   streaming_platform  6075 non-null   object\n",
      " 6   duration_seasons    6075 non-null   int64 \n",
      " 7   date_added          6075 non-null   object\n",
      " 8   Genre               6075 non-null   object\n",
      "dtypes: int64(2), object(7)\n",
      "memory usage: 474.6+ KB\n"
     ]
    }
   ],
   "source": [
    "tv_df_clean.info()"
   ]
  },
  {
   "cell_type": "markdown",
   "id": "2306e17a-7661-4ae2-af14-ded31fc84b3e",
   "metadata": {},
   "source": [
    "#### Check for Erroneous values and replace or remove them if necessary"
   ]
  },
  {
   "cell_type": "code",
   "execution_count": 14,
   "id": "773f9960-f025-4743-b29a-34d4f8baa4f6",
   "metadata": {},
   "outputs": [
    {
     "name": "stdout",
     "output_type": "stream",
     "text": [
      "type\n",
      "['TV Show']\n",
      "title\n",
      "['Wipeout Canada' 'Zoo Babies' 'Zoë Coombs Marr: Bossy Bottom' ...\n",
      " 'Disney Kirby Buckets' 'Disney Mech-X4' 'Imagination Movers']\n",
      "release_year\n",
      "[2011 2008 2020 2001 2017 2015 2018 2013 2002 1959 2009 1994 2014 2007\n",
      " 2010 2019 1955 2021 2016 2012 2004 2005 1961 1997 1999 2003 1967 1995\n",
      " 1981 1963 1972 1936 1975 1974 2000 1969 1998 1984 1991 1979 1954 1992\n",
      " 2006 1978 1996 1945 1989 1962 1990 1986 1985 1960 1946 1987 1988 1993\n",
      " 1932 1983 1958 1980 1933 1953 1957 1965 1982 1970 1951 1925 1977 1973\n",
      " 1976]\n",
      "rating\n",
      "['ALL' '18+' 'TV-Y' 'TV-Y7' '16+' 'TV-PG' '13+' '7+' 'TV-14' 'TV-NR'\n",
      " 'TV-G' 'TV-MA' 'NR' 'R' 'TV-Y7-FV' 'PG']\n",
      "listed_in\n",
      "['Comedy, Documentary, Unscripted' 'Kids, Special Interest'\n",
      " 'Comedy, Talk Show and Variety' 'Kids' 'Action, Anime, Comedy' 'TV Shows'\n",
      " 'Comedy, Drama' 'Animation, Anime, Fantasy'\n",
      " 'Action, Adventure, Animation' 'Anime, Kids' 'Drama, Suspense' 'Fitness'\n",
      " 'Arts, Entertainment, and Culture, Comedy, Talk Show and Variety'\n",
      " 'Action, Western' 'Documentary, Science Fiction'\n",
      " 'Adventure, Animation, Kids' 'Action' 'Drama, Romance, Suspense'\n",
      " 'Comedy, Special Interest, Unscripted' 'Unscripted' 'Drama'\n",
      " 'Documentary, Military and War' 'Documentary, Special Interest'\n",
      " 'Animation, Kids' 'Drama, Western' 'Documentary, Kids, Special Interest'\n",
      " 'Comedy' 'Sports' 'Animation, Comedy, Kids' 'Action, Drama, Suspense'\n",
      " 'Anime' 'Documentary' 'Documentary, Drama, Unscripted'\n",
      " 'Drama, International, Suspense' 'Action, International'\n",
      " 'Anime, Drama, International' 'Action, Adventure, Anime' 'Suspense'\n",
      " 'Animation, Drama' 'Drama, Romance' 'Special Interest, Sports'\n",
      " 'Arts, Entertainment, and Culture, Comedy' 'Horror, Suspense'\n",
      " 'Arts, Entertainment, and Culture' 'Animation, International, Kids'\n",
      " 'Action, Drama' 'Animation, Anime, Drama' 'Special Interest'\n",
      " 'Fantasy, Horror, International' 'Drama, International'\n",
      " 'Comedy, International' 'Documentary, Drama, LGBTQ'\n",
      " 'Documentary, Sports, Unscripted' 'Drama, Horror, Suspense' 'Horror'\n",
      " 'Drama, Suspense, Young Adult Audience' 'Drama, LGBTQ, Unscripted'\n",
      " 'Action, Comedy' 'Special Interest, Unscripted'\n",
      " 'Documentary, International, Special Interest' 'Action, Fantasy'\n",
      " 'Comedy, Drama, Romance'\n",
      " 'International, Music Videos and Concerts, Unscripted'\n",
      " 'Documentary, Faith and Spirituality, Special Interest'\n",
      " 'Animation, Comedy, Science Fiction' 'Animation, Kids, Special Interest'\n",
      " 'Drama, Historical' 'Romance, Science Fiction'\n",
      " 'Drama, Historical, Military and War' 'Comedy, Young Adult Audience'\n",
      " 'Science Fiction' 'Action, Documentary, Unscripted'\n",
      " 'Documentary, Special Interest, Sports'\n",
      " 'Kids, Special Interest, Unscripted' 'Horror, Unscripted'\n",
      " 'Action, Drama, International' 'Comedy, Kids' 'Young Adult Audience'\n",
      " 'Arthouse, Arts, Entertainment, and Culture, Documentary'\n",
      " 'Drama, Special Interest, Unscripted' 'Drama, Science Fiction'\n",
      " 'Action, Animation, Kids' 'Documentary, Unscripted'\n",
      " 'Adventure, Documentary, Military and War' 'Action, Anime, Fantasy'\n",
      " 'Action, Adventure, Documentary'\n",
      " 'Animation, Faith and Spirituality, Kids'\n",
      " 'Documentary, Special Interest, Unscripted'\n",
      " 'Action, Adventure, Science Fiction' 'Drama, Kids' 'Documentary, Sports'\n",
      " 'Documentary, Drama, Sports' 'Animation, Anime, Kids' 'Animation, Comedy'\n",
      " 'Comedy, Drama, Young Adult Audience' 'International, Unscripted'\n",
      " 'Sports, Unscripted' 'Action, Kids' 'Comedy, International, Unscripted'\n",
      " 'International, Special Interest'\n",
      " 'Documentary, Military and War, Special Interest'\n",
      " 'Adventure, Documentary, Special Interest' 'Anime, Drama'\n",
      " 'Comedy, Documentary, Sports' 'Action, Documentary, Special Interest'\n",
      " 'Animation, Anime, Horror' 'Drama, LGBTQ' 'Animation, Anime'\n",
      " 'Drama, Historical, Suspense' 'Talk Show and Variety' 'Drama, Unscripted'\n",
      " 'Comedy, Kids, Talk Show and Variety' 'Action, Adventure, Drama'\n",
      " 'Arts, Entertainment, and Culture, Comedy, International'\n",
      " 'Documentary, Horror, Special Interest' 'Documentary, Horror'\n",
      " 'Comedy, International, Romance' 'Documentary, Suspense' 'Fantasy, Kids'\n",
      " 'Documentary, LGBTQ, Special Interest' 'Action, Documentary'\n",
      " 'Documentary, Drama, Special Interest' 'Drama, Fantasy, Suspense'\n",
      " 'Fitness, Special Interest' 'Action, Anime, International'\n",
      " 'Comedy, Drama, Suspense' 'Drama, Horror'\n",
      " 'Comedy, International, Special Interest'\n",
      " 'Action, Adventure, International' 'Documentary, International'\n",
      " 'Documentary, Kids' 'Anime, Comedy, International' 'Drama, Fantasy, Kids'\n",
      " 'Adventure, Fantasy'\n",
      " 'Arts, Entertainment, and Culture, Comedy, Special Interest'\n",
      " 'Arts, Entertainment, and Culture, Comedy, Unscripted'\n",
      " 'Action, Animation' 'International, Suspense'\n",
      " 'Drama, International, Sports' 'International, Sports'\n",
      " 'Comedy, Unscripted' 'Documentary, Drama' 'Adventure, Drama'\n",
      " 'Drama, Science Fiction, Suspense' 'Drama, Special Interest'\n",
      " 'Drama, LGBTQ, Suspense' 'Documentary, Drama, Horror'\n",
      " 'Arts, Entertainment, and Culture, Documentary'\n",
      " 'Science Fiction, Suspense, Unscripted'\n",
      " 'LGBTQ, Special Interest, Unscripted' 'Comedy, Drama, Fantasy'\n",
      " 'Fitness, Kids, Special Interest' 'Comedy, Drama, LGBTQ'\n",
      " 'Action, Unscripted' 'Action, Drama, Military and War' 'International'\n",
      " 'Drama, International, Romance' 'Comedy, Drama, International'\n",
      " 'Comedy, Romance' 'Action, Drama, Romance'\n",
      " 'Documentary, LGBTQ, Music Videos and Concerts' 'LGBTQ'\n",
      " 'Comedy, Drama, Kids' 'Drama, Fantasy' 'Adventure, Sports'\n",
      " 'Action, Special Interest, Sports' 'Horror, Science Fiction, Suspense'\n",
      " 'Drama, Young Adult Audience' 'Comedy, Historical'\n",
      " 'Drama, Science Fiction, Special Interest' 'Kids, Science Fiction'\n",
      " 'Fitness, Kids'\n",
      " 'Arts, Entertainment, and Culture, International, Unscripted'\n",
      " 'Action, Animation, Anime' 'Action, Suspense' 'Documentary, Drama, Kids'\n",
      " 'Anime, International, Kids' 'Adventure' 'Action, Science Fiction'\n",
      " 'Kids, LGBTQ, Romance' 'Action, Comedy, Drama'\n",
      " 'Documentary, Music Videos and Concerts, Special Interest'\n",
      " 'Comedy, Horror' 'Music Videos and Concerts'\n",
      " 'Arts, Entertainment, and Culture, Drama' 'Action, Adventure, Comedy'\n",
      " 'Science Fiction, Suspense' 'Documentary, Drama, Suspense' 'Western'\n",
      " 'Arts, Entertainment, and Culture, Comedy, Drama' 'Romance, Suspense'\n",
      " 'Action, Adventure, Sports' 'Action, Anime' 'Comedy, Documentary'\n",
      " 'Drama, Special Interest, Suspense' 'Animation'\n",
      " 'Drama, Fantasy, Science Fiction'\n",
      " 'Arts, Entertainment, and Culture, Kids' 'LGBTQ, Romance' 'Romance'\n",
      " 'Animation, Young Adult Audience' 'Action, Anime, Kids'\n",
      " 'Drama, Romance, Science Fiction' 'Horror, Romance, Science Fiction'\n",
      " 'Action, Arts, Entertainment, and Culture, Drama'\n",
      " 'Action, Romance, Science Fiction' 'Comedy, Drama, Science Fiction'\n",
      " 'Action, Comedy, Kids' 'Documentary, Kids, Science Fiction'\n",
      " 'Drama, Historical, Romance' 'Animation, Kids, Science Fiction'\n",
      " 'Arts, Entertainment, and Culture, Special Interest, Unscripted'\n",
      " 'Comedy, Suspense' 'Drama, LGBTQ, Romance' 'Comedy, LGBTQ, Romance'\n",
      " 'Animation, Kids, Suspense' 'Special Interest, Suspense'\n",
      " 'Romance, Science Fiction, Western'\n",
      " 'Faith and Spirituality, Kids, Special Interest'\n",
      " 'Documentary, Horror, Suspense'\n",
      " 'Documentary, Drama, Faith and Spirituality'\n",
      " 'Documentary, Talk Show and Variety'\n",
      " 'Arts, Entertainment, and Culture, Documentary, LGBTQ'\n",
      " 'Adventure, Drama, Suspense'\n",
      " 'Drama, Faith and Spirituality, Special Interest'\n",
      " 'Documentary, Suspense, Unscripted' 'Action, Comedy, Science Fiction'\n",
      " 'Adventure, Drama, Fantasy' 'Action, Horror'\n",
      " 'Adventure, Comedy, Unscripted' 'Drama, Horror, Young Adult Audience'\n",
      " 'Special Interest, Western' 'Comedy, Horror, Kids'\n",
      " 'Drama, Faith and Spirituality' 'Drama, Sports' 'Drama, Kids, Western'\n",
      " 'Comedy, Documentary, Drama' 'Anime, Drama, Sports'\n",
      " 'Special Interest, Talk Show and Variety, Unscripted' 'Action, Romance'\n",
      " 'Drama, Music' 'Reality, Romance' 'Reality' 'Documentaries, History'\n",
      " 'History, Reality' 'Documentaries, Reality, Teen'\n",
      " 'Health & Wellness, Lifestyle & Culture, Reality'\n",
      " 'Black Stories, Reality' 'Documentaries, Reality, Romance'\n",
      " 'Documentaries, Drama, Mystery' 'Documentaries, Reality'\n",
      " 'Latino, Reality' 'Crime, Documentaries' 'Comedy, Crime, Drama'\n",
      " 'Comedy, Family' 'Comedy, Late Night, Sketch Comedy' 'News'\n",
      " 'Crime, Drama' 'Drama, Teen' 'Adult Animation, Comedy, Sitcom'\n",
      " 'Crime, Mystery' 'Documentaries, LGBTQ+' 'Documentaries, Sports'\n",
      " 'Crime, Drama, Mystery' 'Music, Reality' 'Comedy, Sitcom'\n",
      " 'Adventure, Family, Kids' 'Comedy, Family, Sitcom'\n",
      " 'Comedy, Music, Reality' 'Family, Lifestyle & Culture, Reality'\n",
      " 'Comedy, Late Night' 'Comedy, LGBTQ+, Sitcom' 'Comedy, Reality'\n",
      " 'Crime, Documentaries, Sports' 'Documentaries, Drama, Sports' 'Crime'\n",
      " 'Documentaries' 'Anime, Comedy, Drama' 'Game Shows, Reality'\n",
      " 'Cooking & Food, Lifestyle & Culture, Reality'\n",
      " 'Lifestyle & Culture, Reality' 'Black Stories, Drama'\n",
      " 'Documentaries, News' 'Action, Adventure, Family' 'Lifestyle & Culture'\n",
      " 'Action, Adult Animation, Adventure' 'Comedy, Latino' 'Reality, Sports'\n",
      " 'Adventure, Cartoons, Family' 'Drama, Horror, Science Fiction'\n",
      " 'Drama, Horror, Latino' 'Drama, Horror, Thriller'\n",
      " 'Family, Game Shows, Reality' 'Adventure, Comedy, Kids'\n",
      " 'International, Reality, Romance' 'Black Stories, Comedy, Sitcom'\n",
      " 'Drama, International, Mystery' 'Black Stories, LGBTQ+, Reality'\n",
      " 'Cooking & Food, Lifestyle & Culture' 'Lifestyle & Culture, News'\n",
      " 'Documentaries, Reality, Science & Technology'\n",
      " 'Game Shows, Reality, Sports'\n",
      " 'Cooking & Food, Family, Lifestyle & Culture' 'Drama, Family, Teen'\n",
      " 'Crime, Documentaries, Drama' 'Action, Adventure, Documentaries'\n",
      " 'Action, Adventure, Reality' 'Documentaries, Drama, History'\n",
      " 'Documentaries, History, Reality' 'News, Reality, Science & Technology'\n",
      " 'Drama, LGBTQ+, Latino' 'Family, Music, Reality'\n",
      " 'Documentaries, Health & Wellness, Lifestyle & Culture'\n",
      " 'Crime, Documentaries, Mystery'\n",
      " 'Black Stories, Drama, Lifestyle & Culture'\n",
      " 'Adult Animation, Comedy, Science Fiction'\n",
      " 'Adventure, Documentaries, Reality' 'Adventure, Kids'\n",
      " 'Comedy, Reality, Romance' 'Documentaries, Drama, LGBTQ+'\n",
      " 'Drama, Mystery, Thriller' 'Family, Kids' 'Action, Anime, Drama'\n",
      " 'Comedy, Documentaries' 'Action, Crime, Drama'\n",
      " 'Comedy, Documentaries, History'\n",
      " 'Black Stories, LGBTQ+, Lifestyle & Culture' 'Drama, History'\n",
      " 'Comedy, Drama, Horror' 'Crime, Documentaries, Reality'\n",
      " 'Comedy, Science Fiction, Sitcom' 'Comedy, Drama, Music'\n",
      " 'Drama, Family, International' 'Cooking & Food, Family, Reality'\n",
      " 'Action, Adventure, News' 'Documentaries, History, Latino'\n",
      " 'Documentaries, Science & Technology' 'Documentaries, Science Fiction'\n",
      " 'Black Stories, Documentaries, Music' 'Crime, Drama, International'\n",
      " 'Black Stories, Documentaries, Romance' 'Black Stories, Drama, Reality'\n",
      " 'Comedy, Lifestyle & Culture' 'Comedy, Lifestyle & Culture, Reality'\n",
      " 'Action, Adventure, Lifestyle & Culture' 'Latino, Sports' 'Game Shows'\n",
      " 'Drama, Horror, International' 'Adventure, Anime, Drama'\n",
      " 'Comedy, International, Sitcom' 'Drama, Horror, Mystery'\n",
      " 'Crime, Drama, Thriller' 'Drama, Thriller'\n",
      " 'Adventure, Kids, Science Fiction' 'Adventure, Cartoons, Kids'\n",
      " 'Comedy, Family, Kids' 'Comedy, Science Fiction' 'Anime, International'\n",
      " 'Adult Animation, Adventure, Comedy' 'Documentaries, Family, Reality'\n",
      " 'Crime, Documentaries, News' 'Crime, Drama, Horror'\n",
      " 'Action, Drama, Horror' 'Drama, Latino' 'Action, Adventure, Kids'\n",
      " 'Black Stories, Comedy, Family' 'Comedy, Documentaries, Stand Up'\n",
      " 'Documentaries, International, Reality' 'Action, Adventure, Crime'\n",
      " 'Action, Adventure, Latino' 'Game Shows, Music, Reality'\n",
      " 'Black Stories, Drama, Romance' 'Black Stories, Comedy'\n",
      " 'Adult Animation, Comedy' 'Family, Kids, Lifestyle & Culture'\n",
      " 'Action, Adventure, Cartoons'\n",
      " 'Documentaries, Drama, Science & Technology' 'Documentaries, Drama'\n",
      " 'Documentaries, News, Science & Technology'\n",
      " 'Documentaries, Health & Wellness, Reality' 'Drama, Mystery, Reality'\n",
      " 'Drama, International, Science Fiction' 'Drama, Mystery, Science Fiction'\n",
      " 'Black Stories, Cartoons, Kids' 'Cartoons, Comedy, Kids'\n",
      " 'Family, Health & Wellness, Reality' 'Documentaries, Reality, Sports'\n",
      " 'Comedy, Drama, History' 'Black Stories, Lifestyle & Culture, Reality'\n",
      " 'Drama, Reality' 'Cooking & Food, Documentaries, Lifestyle & Culture'\n",
      " 'Drama, International, Latino' 'Black Stories, Comedy, Drama'\n",
      " 'Drama, Science Fiction, Thriller' 'Drama, Lifestyle & Culture'\n",
      " 'Adventure, Documentaries' 'Drama, International, Thriller'\n",
      " 'Black Stories, Drama, Kids' 'Black Stories, Crime, Documentaries'\n",
      " 'Adventure, Anime, International' 'Anime, Drama, Science Fiction'\n",
      " 'Anime, International, Science Fiction' 'Anime, Science Fiction'\n",
      " 'Documentaries, LGBTQ+, Reality' 'Family, Lifestyle & Culture'\n",
      " 'Crime, Drama, Latino' 'Drama, History, Thriller'\n",
      " 'Cooking & Food, Documentaries, Reality' 'Comedy, News' 'Anime, Crime'\n",
      " 'Drama, Romance, Teen' 'Family, Reality, Sports' 'Anime, Comedy, Romance'\n",
      " 'Crime, Reality' 'Reality, Teen' 'Black Stories, Music, Reality'\n",
      " 'Black Stories, Drama, Music' 'Latino, Music, Reality'\n",
      " 'Action, Adventure, Black Stories' 'Documentaries, History, News'\n",
      " 'Action, Anime, Science Fiction' 'Drama, Horror, Teen'\n",
      " 'Documentaries, History, Lifestyle & Culture'\n",
      " 'Documentaries, Lifestyle & Culture, News'\n",
      " 'Documentaries, Lifestyle & Culture, Music' 'Crime, Drama, Teen'\n",
      " 'Cartoons, Comedy, Family' 'Kids, LGBTQ+' 'Comedy, Drama, Latino'\n",
      " 'Action, Adventure, Classics' 'Family, Game Shows, Music'\n",
      " 'Lifestyle & Culture, Reality, Sports' 'Comedy, Latino, Stand Up'\n",
      " 'Comedy, History' 'Anime, Family, Kids' 'Drama, Mystery' 'Cooking & Food'\n",
      " 'Black Stories, Drama, Mystery' 'Kids, Latino' 'Comedy, Horror, Sitcom'\n",
      " 'Classics, Comedy, Family' 'Drama, History, Romance'\n",
      " 'Drama, International, LGBTQ+'\n",
      " 'Documentaries, Horror, Science & Technology' 'Classics, Comedy, Drama'\n",
      " 'Adventure, Cartoons, Comedy' 'Documentaries, Latino' 'Latino'\n",
      " 'Comedy, Sitcom, Teen' 'Comedy, Drama, Teen' 'Drama, Latino, Romance'\n",
      " 'Adventure, Family, Lifestyle & Culture'\n",
      " 'Black Stories, Documentaries, Sports' 'Black Stories, Documentaries'\n",
      " 'Comedy, Kids, Sitcom' 'Action, Adventure, Health & Wellness'\n",
      " 'Cartoons, Kids' 'Horror, Thriller' 'Anime, Horror, International'\n",
      " 'Documentaries, Kids' 'Adult Animation, International, Latino'\n",
      " 'Comedy, Drama, Sitcom' 'Black Stories, Classics, Comedy'\n",
      " 'Cooking & Food, International, Lifestyle & Culture'\n",
      " 'Family, Horror, Reality' 'Drama, Family' 'Drama, Latino, Teen'\n",
      " 'Comedy, Romance, Sitcom' 'Black Stories, Crime, Drama'\n",
      " 'Adult Animation, Comedy, International' 'Science & Technology'\n",
      " 'Anime, Comedy, Horror' 'Anime, International, Mystery'\n",
      " 'Anime, Drama, Horror' 'Comedy, LGBTQ+'\n",
      " 'Adult Animation, Black Stories, Comedy' 'Comedy, Latino, Sitcom'\n",
      " 'Comedy, Music, Sitcom' 'Lifestyle & Culture, Reality, Teen'\n",
      " 'Science Fiction, Teen' 'Adventure, Anime' 'Classics, Comedy, Sitcom'\n",
      " 'Adventure, Drama, Mystery' 'Family, Reality'\n",
      " 'Drama, History, International' 'Cartoons, Kids, LGBTQ+'\n",
      " 'Classics, Drama, History' 'Comedy, Crime, International'\n",
      " 'Adventure, Reality' 'Adventure, Kids, Latino'\n",
      " 'Classics, Family, Lifestyle & Culture' 'Comedy, Family, International'\n",
      " 'Anime, Comedy' 'Family, Kids, Latino'\n",
      " 'Black Stories, Comedy, Sketch Comedy' 'Adult Animation, Comedy, Latino'\n",
      " 'Crime, Drama, History' 'Comedy, International, Sketch Comedy'\n",
      " 'Action, Adult Animation' 'Anime, Crime, Drama' 'Drama, Family, Mystery'\n",
      " 'Comedy, Music' 'Adventure, Drama, International'\n",
      " 'Anime, International, Romance' 'Documentaries, Lifestyle & Culture'\n",
      " 'Adventure, Anime, Science Fiction' 'Adventure, Anime, Kids'\n",
      " 'Adventure, Anime, Comedy' 'Comedy, Drama, Family'\n",
      " 'Crime TV Shows, International TV Shows, TV Action & Adventure'\n",
      " 'Docuseries, Reality TV' 'TV Dramas, TV Horror, TV Mysteries'\n",
      " 'Crime TV Shows, Docuseries, International TV Shows'\n",
      " 'British TV Shows, Crime TV Shows, Docuseries'\n",
      " 'International TV Shows, Spanish-Language TV Shows, TV Action & Adventure'\n",
      " 'TV Comedies' 'International TV Shows, TV Dramas, TV Thrillers'\n",
      " \"Kids' TV\" \"Kids' TV, TV Comedies\" \"Kids' TV, TV Sci-Fi & Fantasy\"\n",
      " 'International TV Shows, Romantic TV Shows, TV Comedies'\n",
      " 'International TV Shows, TV Dramas, TV Sci-Fi & Fantasy'\n",
      " 'Docuseries, International TV Shows' 'International TV Shows, TV Dramas'\n",
      " 'International TV Shows, Reality TV, Romantic TV Shows'\n",
      " 'Anime Series, International TV Shows' 'Reality TV'\n",
      " \"Anime Series, Kids' TV\" \"British TV Shows, Kids' TV\"\n",
      " 'TV Comedies, TV Dramas' 'Docuseries, Science & Nature TV'\n",
      " \"Kids' TV, TV Dramas, Teen TV Shows\"\n",
      " 'Docuseries, International TV Shows, Spanish-Language TV Shows'\n",
      " 'Crime TV Shows, TV Action & Adventure, TV Comedies'\n",
      " 'International TV Shows, TV Action & Adventure, TV Comedies'\n",
      " 'Crime TV Shows, International TV Shows, Spanish-Language TV Shows'\n",
      " 'Docuseries' 'International TV Shows, TV Comedies'\n",
      " 'International TV Shows, Spanish-Language TV Shows, TV Dramas'\n",
      " 'Crime TV Shows, International TV Shows, TV Dramas'\n",
      " 'Reality TV, Teen TV Shows' 'Crime TV Shows, TV Dramas, TV Mysteries'\n",
      " 'International TV Shows, Reality TV'\n",
      " 'International TV Shows, TV Dramas, TV Mysteries'\n",
      " 'International TV Shows, TV Comedies, TV Dramas'\n",
      " 'International TV Shows, Spanish-Language TV Shows, TV Comedies'\n",
      " 'Anime Series, International TV Shows, Romantic TV Shows'\n",
      " 'International TV Shows, TV Dramas, Teen TV Shows'\n",
      " 'International TV Shows, Romantic TV Shows, TV Dramas'\n",
      " 'TV Action & Adventure, TV Dramas, TV Mysteries'\n",
      " 'Crime TV Shows, Docuseries'\n",
      " 'Anime Series, International TV Shows, TV Thrillers' 'Anime Series'\n",
      " 'Stand-Up Comedy & Talk Shows, TV Comedies'\n",
      " 'TV Action & Adventure, TV Sci-Fi & Fantasy'\n",
      " 'Anime Series, Stand-Up Comedy & Talk Shows'\n",
      " 'British TV Shows, International TV Shows, Reality TV'\n",
      " 'Classic & Cult TV, Crime TV Shows, International TV Shows'\n",
      " 'Crime TV Shows, International TV Shows, Romantic TV Shows'\n",
      " 'International TV Shows, Romantic TV Shows, Spanish-Language TV Shows'\n",
      " 'Anime Series, TV Horror, TV Thrillers'\n",
      " \"International TV Shows, Kids' TV, TV Mysteries\"\n",
      " 'Anime Series, Crime TV Shows, International TV Shows'\n",
      " 'Anime Series, International TV Shows, Teen TV Shows'\n",
      " 'Romantic TV Shows, TV Dramas'\n",
      " 'International TV Shows, Reality TV, Spanish-Language TV Shows'\n",
      " 'Crime TV Shows, TV Dramas, TV Thrillers' 'British TV Shows, Docuseries'\n",
      " 'Crime TV Shows, International TV Shows, TV Thrillers'\n",
      " 'Anime Series, Crime TV Shows, TV Horror'\n",
      " 'International TV Shows, Spanish-Language TV Shows, Stand-Up Comedy & Talk Shows'\n",
      " 'TV Action & Adventure, TV Dramas, TV Sci-Fi & Fantasy'\n",
      " 'Anime Series, Romantic TV Shows, Teen TV Shows'\n",
      " 'International TV Shows, TV Action & Adventure, TV Dramas' 'TV Dramas'\n",
      " 'International TV Shows, TV Horror, TV Sci-Fi & Fantasy'\n",
      " 'British TV Shows, Docuseries, International TV Shows'\n",
      " 'International TV Shows, Stand-Up Comedy & Talk Shows'\n",
      " 'British TV Shows, International TV Shows, TV Dramas'\n",
      " 'Reality TV, Romantic TV Shows'\n",
      " 'Crime TV Shows, International TV Shows, Korean TV Shows'\n",
      " 'Romantic TV Shows, TV Comedies, TV Dramas'\n",
      " 'Crime TV Shows, Docuseries, TV Mysteries'\n",
      " 'British TV Shows, Crime TV Shows, International TV Shows'\n",
      " 'Crime TV Shows, International TV Shows, TV Comedies'\n",
      " 'Docuseries, Science & Nature TV, TV Action & Adventure'\n",
      " \"British TV Shows, Kids' TV, TV Dramas\"\n",
      " 'Crime TV Shows, Spanish-Language TV Shows, TV Action & Adventure'\n",
      " 'Romantic TV Shows, Teen TV Shows' 'TV Comedies, Teen TV Shows'\n",
      " 'TV Horror, Teen TV Shows' 'Docuseries, TV Comedies'\n",
      " 'Spanish-Language TV Shows, TV Dramas'\n",
      " 'International TV Shows, TV Mysteries, TV Thrillers'\n",
      " 'Docuseries, Spanish-Language TV Shows'\n",
      " 'TV Dramas, TV Mysteries, TV Thrillers'\n",
      " 'International TV Shows, TV Action & Adventure, TV Mysteries'\n",
      " 'International TV Shows, TV Dramas, TV Horror'\n",
      " 'International TV Shows, TV Horror, TV Mysteries'\n",
      " 'British TV Shows, Reality TV' 'TV Action & Adventure, TV Dramas'\n",
      " 'International TV Shows, Romantic TV Shows, TV Mysteries'\n",
      " 'TV Dramas, Teen TV Shows' 'Reality TV, TV Comedies'\n",
      " 'Crime TV Shows, International TV Shows, TV Mysteries'\n",
      " 'British TV Shows, International TV Shows, TV Comedies'\n",
      " 'TV Dramas, TV Sci-Fi & Fantasy, TV Thrillers'\n",
      " 'Romantic TV Shows, TV Dramas, TV Sci-Fi & Fantasy'\n",
      " 'Docuseries, TV Sci-Fi & Fantasy'\n",
      " 'British TV Shows, Reality TV, Romantic TV Shows'\n",
      " 'Crime TV Shows, TV Comedies, TV Dramas'\n",
      " \"Kids' TV, TV Action & Adventure, TV Sci-Fi & Fantasy\"\n",
      " 'Docuseries, International TV Shows, Science & Nature TV'\n",
      " \"Kids' TV, Reality TV, TV Dramas\" 'Reality TV, Science & Nature TV'\n",
      " 'Docuseries, Reality TV, Science & Nature TV'\n",
      " \"Kids' TV, TV Action & Adventure, TV Comedies\"\n",
      " 'International TV Shows, Korean TV Shows, Romantic TV Shows'\n",
      " \"Kids' TV, TV Dramas\"\n",
      " 'TV Action & Adventure, TV Mysteries, TV Sci-Fi & Fantasy'\n",
      " 'International TV Shows, Korean TV Shows, Reality TV'\n",
      " 'International TV Shows, Korean TV Shows, TV Dramas'\n",
      " 'International TV Shows, TV Action & Adventure, TV Horror'\n",
      " 'International TV Shows, Korean TV Shows, TV Comedies'\n",
      " 'International TV Shows, Korean TV Shows, TV Action & Adventure'\n",
      " 'Anime Series, International TV Shows, TV Horror'\n",
      " 'International TV Shows, Korean TV Shows, TV Horror'\n",
      " 'Anime Series, Romantic TV Shows'\n",
      " 'Docuseries, Science & Nature TV, TV Comedies'\n",
      " \"Kids' TV, TV Comedies, TV Dramas\"\n",
      " 'International TV Shows, Stand-Up Comedy & Talk Shows, TV Comedies'\n",
      " 'British TV Shows, International TV Shows, TV Action & Adventure'\n",
      " \"British TV Shows, Kids' TV, TV Comedies\"\n",
      " 'TV Comedies, TV Dramas, TV Sci-Fi & Fantasy'\n",
      " 'TV Action & Adventure, TV Dramas, TV Horror'\n",
      " 'International TV Shows, Reality TV, TV Comedies'\n",
      " 'Docuseries, Reality TV, Teen TV Shows'\n",
      " 'Crime TV Shows, International TV Shows, Reality TV'\n",
      " 'Anime Series, Teen TV Shows' 'TV Dramas, TV Thrillers'\n",
      " \"Kids' TV, Korean TV Shows\"\n",
      " 'TV Horror, TV Mysteries, TV Sci-Fi & Fantasy'\n",
      " 'International TV Shows, TV Comedies, TV Sci-Fi & Fantasy'\n",
      " 'International TV Shows, Romantic TV Shows'\n",
      " 'International TV Shows, Romantic TV Shows, TV Action & Adventure'\n",
      " 'International TV Shows, Romantic TV Shows, Teen TV Shows'\n",
      " 'Docuseries, Stand-Up Comedy & Talk Shows'\n",
      " 'TV Action & Adventure, TV Comedies, TV Horror' \"Kids' TV, TV Thrillers\"\n",
      " \"Kids' TV, Spanish-Language TV Shows\"\n",
      " \"Kids' TV, TV Action & Adventure, TV Dramas\"\n",
      " 'Anime Series, Crime TV Shows' 'Crime TV Shows, TV Dramas'\n",
      " 'International TV Shows, TV Action & Adventure, TV Sci-Fi & Fantasy'\n",
      " 'Docuseries, TV Dramas' 'Crime TV Shows, Docuseries, Science & Nature TV'\n",
      " 'TV Horror, TV Mysteries, Teen TV Shows'\n",
      " \"Kids' TV, Reality TV, Science & Nature TV\"\n",
      " 'International TV Shows, Spanish-Language TV Shows, TV Horror'\n",
      " 'Romantic TV Shows, Spanish-Language TV Shows, TV Comedies'\n",
      " 'Docuseries, International TV Shows, Reality TV'\n",
      " 'Crime TV Shows, International TV Shows, TV Sci-Fi & Fantasy'\n",
      " 'British TV Shows, International TV Shows, Romantic TV Shows'\n",
      " 'TV Comedies, TV Mysteries' 'British TV Shows, Docuseries, TV Comedies'\n",
      " 'British TV Shows, TV Comedies' 'Romantic TV Shows, TV Comedies'\n",
      " 'Reality TV, Science & Nature TV, TV Action & Adventure'\n",
      " 'TV Comedies, TV Dramas, TV Mysteries'\n",
      " \"Docuseries, Kids' TV, Science & Nature TV\"\n",
      " 'British TV Shows, International TV Shows, Stand-Up Comedy & Talk Shows'\n",
      " 'TV Comedies, TV Dramas, Teen TV Shows'\n",
      " 'Stand-Up Comedy & Talk Shows, TV Mysteries, TV Sci-Fi & Fantasy'\n",
      " 'Crime TV Shows, TV Action & Adventure, TV Dramas'\n",
      " 'Stand-Up Comedy & Talk Shows'\n",
      " 'British TV Shows, TV Horror, TV Thrillers'\n",
      " 'British TV Shows, Docuseries, Science & Nature TV'\n",
      " 'International TV Shows, TV Horror, TV Thrillers'\n",
      " \"Crime TV Shows, Kids' TV, TV Comedies\"\n",
      " 'British TV Shows, Docuseries, Reality TV'\n",
      " 'Crime TV Shows, Romantic TV Shows, Spanish-Language TV Shows'\n",
      " 'Anime Series, Crime TV Shows, TV Thrillers' 'International TV Shows'\n",
      " \"Classic & Cult TV, Kids' TV, Spanish-Language TV Shows\"\n",
      " 'Romantic TV Shows, Spanish-Language TV Shows, TV Dramas'\n",
      " 'Crime TV Shows, Spanish-Language TV Shows, TV Dramas'\n",
      " 'International TV Shows, Korean TV Shows, Stand-Up Comedy & Talk Shows'\n",
      " 'British TV Shows, TV Dramas, TV Sci-Fi & Fantasy'\n",
      " 'International TV Shows, Reality TV, TV Action & Adventure'\n",
      " 'TV Comedies, TV Sci-Fi & Fantasy'\n",
      " 'British TV Shows, Romantic TV Shows, TV Dramas'\n",
      " 'Crime TV Shows, TV Comedies'\n",
      " 'British TV Shows, Crime TV Shows, TV Dramas'\n",
      " 'TV Dramas, TV Mysteries, TV Sci-Fi & Fantasy'\n",
      " 'Classic & Cult TV, TV Action & Adventure, TV Dramas'\n",
      " 'Classic & Cult TV, TV Action & Adventure, TV Sci-Fi & Fantasy'\n",
      " 'British TV Shows, Classic & Cult TV, TV Comedies'\n",
      " 'Classic & Cult TV, TV Comedies'\n",
      " 'TV Action & Adventure, TV Comedies, TV Sci-Fi & Fantasy'\n",
      " 'Classic & Cult TV, TV Action & Adventure, TV Horror'\n",
      " \"Kids' TV, TV Comedies, TV Sci-Fi & Fantasy\"\n",
      " 'TV Action & Adventure, TV Dramas, Teen TV Shows'\n",
      " 'Reality TV, TV Action & Adventure, TV Mysteries'\n",
      " 'TV Action & Adventure, TV Horror, TV Sci-Fi & Fantasy'\n",
      " 'Reality TV, TV Comedies, TV Horror'\n",
      " 'Romantic TV Shows, TV Dramas, Teen TV Shows'\n",
      " 'Anime Series, International TV Shows, Spanish-Language TV Shows'\n",
      " \"British TV Shows, Classic & Cult TV, Kids' TV\"\n",
      " 'Classic & Cult TV, TV Dramas, TV Sci-Fi & Fantasy'\n",
      " 'TV Dramas, TV Sci-Fi & Fantasy, Teen TV Shows'\n",
      " 'Crime TV Shows, Romantic TV Shows, TV Dramas'\n",
      " \"Kids' TV, Korean TV Shows, TV Comedies\"\n",
      " \"British TV Shows, Kids' TV, TV Thrillers\"\n",
      " \"Kids' TV, Spanish-Language TV Shows, Teen TV Shows\"\n",
      " 'Crime TV Shows, TV Action & Adventure, TV Thrillers'\n",
      " 'TV Comedies, TV Sci-Fi & Fantasy, Teen TV Shows'\n",
      " \"Crime TV Shows, Kids' TV\" 'Crime TV Shows, TV Comedies, Teen TV Shows'\n",
      " 'British TV Shows, TV Comedies, TV Dramas'\n",
      " 'TV Action & Adventure, TV Comedies'\n",
      " 'Docuseries, Science & Nature TV, TV Dramas'\n",
      " 'Classic & Cult TV, Crime TV Shows, TV Dramas'\n",
      " 'TV Dramas, TV Sci-Fi & Fantasy'\n",
      " 'Crime TV Shows, TV Horror, TV Mysteries'\n",
      " 'Reality TV, TV Horror, TV Thrillers'\n",
      " 'TV Horror, TV Mysteries, TV Thrillers'\n",
      " 'TV Action & Adventure, TV Comedies, TV Dramas'\n",
      " \"Kids' TV, TV Comedies, Teen TV Shows\"\n",
      " \"Classic & Cult TV, Kids' TV, TV Action & Adventure\"\n",
      " 'TV Comedies, TV Horror, TV Thrillers' 'TV Action & Adventure'\n",
      " 'Crime TV Shows, TV Action & Adventure'\n",
      " 'Reality TV, Spanish-Language TV Shows'\n",
      " 'TV Sci-Fi & Fantasy, TV Thrillers'\n",
      " \"Anime Series, Kids' TV, TV Action & Adventure\"\n",
      " 'Romantic TV Shows, TV Action & Adventure, TV Dramas'\n",
      " 'British TV Shows, Classic & Cult TV, International TV Shows'\n",
      " 'Classic & Cult TV, TV Sci-Fi & Fantasy'\n",
      " \"Kids' TV, TV Action & Adventure\" 'TV Comedies, TV Dramas, TV Horror'\n",
      " 'Crime TV Shows, TV Dramas, TV Horror'\n",
      " 'Classic & Cult TV, TV Horror, TV Mysteries'\n",
      " \"Classic & Cult TV, Kids' TV, TV Comedies\"\n",
      " 'Crime TV Shows, TV Action & Adventure, TV Sci-Fi & Fantasy'\n",
      " 'Action-Adventure, Superhero' 'Docuseries, Reality, Survival'\n",
      " 'Animals & Nature, Docuseries, Family'\n",
      " 'Action-Adventure, Animals & Nature, Docuseries'\n",
      " 'Comedy, Coming of Age, Drama' 'Animation, Family'\n",
      " 'Animation, Comedy, Family' 'Action-Adventure, Animation, Kids'\n",
      " 'Animals & Nature, Reality' 'Docuseries, Historical'\n",
      " 'Anthology, Comedy, Coming of Age'\n",
      " 'Animals & Nature, Docuseries, Medical'\n",
      " 'Animation, Coming of Age, Fantasy' 'Animation, Buddy, Coming of Age'\n",
      " 'Animation, Fantasy, Kids' 'Family, Game Show / Competition'\n",
      " 'Animals & Nature, Docuseries' 'Kids, Music' 'Animation, Science Fiction'\n",
      " 'Animation, Anthology, Science Fiction'\n",
      " 'Animals & Nature, Docuseries, Reality'\n",
      " 'Action-Adventure, Animation, Anime'\n",
      " 'Action-Adventure, Animation, Fantasy' 'Comedy, Coming of Age, Family'\n",
      " 'Animation, Comedy, Coming of Age' 'Animation, Kids, Police/Cop'\n",
      " 'Comedy, Family, Science Fiction'\n",
      " 'Action-Adventure, Animation, Anthology' 'Animation, Anthology, Family'\n",
      " 'Animation, Buddy, Comedy' 'Animation, Buddy, Kids' 'Talk Show'\n",
      " 'Docuseries, Family' 'Action-Adventure, Buddy, Comedy'\n",
      " 'Comedy, Coming of Age' 'Action-Adventure, Docuseries, Reality'\n",
      " 'Animation, Kids, Sports' 'Comedy, Family, Fantasy'\n",
      " 'Action-Adventure, Reality, Survival' 'Action-Adventure, Family'\n",
      " 'Animation, Kids, Western' 'Action-Adventure, Fantasy, Science Fiction'\n",
      " 'Action-Adventure, Docuseries, Lifestyle'\n",
      " 'Action-Adventure, Animation, Comedy' 'Animation, Superhero'\n",
      " 'Animals & Nature, Animation, Kids'\n",
      " 'Action-Adventure, Family, Game Show / Competition'\n",
      " 'Anthology, Science Fiction'\n",
      " 'Action-Adventure, Animation, Science Fiction' 'Fantasy, Musical'\n",
      " 'Comedy, Coming of Age, Kids' 'Comedy, Drama, Sports'\n",
      " 'Animals & Nature, Anthology' 'Action-Adventure, Animation'\n",
      " 'Animation, Kids, Musical' 'Series'\n",
      " 'Action-Adventure, Buddy, Science Fiction' 'Buddy, Comedy, Docuseries'\n",
      " 'Game Show / Competition, Sports, Variety' 'Comedy, Docuseries, Family'\n",
      " 'Comedy, Fantasy' 'Action-Adventure, Comedy, Coming of Age'\n",
      " 'Family, Fantasy, Mystery' 'Comedy, Family, Variety'\n",
      " 'Drama, Fantasy, Mystery' 'Family, Game Show / Competition, Reality'\n",
      " 'Action-Adventure, Docuseries, Fantasy'\n",
      " 'Action-Adventure, Docuseries, Family'\n",
      " 'Action-Adventure, Fantasy, Soap Opera / Melodrama'\n",
      " 'Animals & Nature, Kids, Music' 'Coming of Age, Drama, Music'\n",
      " 'Anthology, Docuseries' 'Action-Adventure, Animation, Buddy'\n",
      " 'Action-Adventure, Family, Science Fiction' 'Docuseries, Reality'\n",
      " 'Anthology, Docuseries, Family' 'Docuseries, Historical, Reality'\n",
      " 'Comedy, Parody, Science Fiction' 'Animals & Nature, Kids, Variety'\n",
      " 'Animation, Kids, Music' 'Animals & Nature, Docuseries, Kids'\n",
      " 'Docuseries, Kids' 'Comedy, Family, Lifestyle' 'Buddy, Docuseries'\n",
      " 'Comedy, Coming of Age, Music' 'Comedy, Coming of Age, Medical'\n",
      " 'Animals & Nature, Comedy, Family' 'Coming of Age, Fantasy, Mystery'\n",
      " 'Animation, Kids, Medical' 'Action-Adventure, Docuseries, Historical'\n",
      " 'Docuseries, Family, Game Show / Competition'\n",
      " 'Comedy, Coming of Age, Romance' 'Docuseries, Family, Lifestyle'\n",
      " 'Comedy, Coming of Age, Fantasy' 'Coming of Age, Drama, Musical'\n",
      " 'Coming of Age, Drama, Science Fiction' 'Animation, Comedy, Fantasy'\n",
      " 'Docuseries, Science Fiction' 'Buddy, Docuseries, Lifestyle'\n",
      " 'Buddy, Comedy, Coming of Age' 'Coming of Age, Docuseries, Family'\n",
      " 'Comedy, Family, Game Show / Competition' 'Comedy, Fantasy, Kids'\n",
      " 'Buddy, Comedy, Family' 'Anthology, Family, Lifestyle'\n",
      " 'Animation, Anthology, Comedy' 'Action-Adventure, Comedy, Kids'\n",
      " 'Animation, Kids, Parody' 'Docuseries, Family, Medical'\n",
      " 'Animals & Nature, Docuseries, Survival'\n",
      " 'Action-Adventure, Animation, Coming of Age'\n",
      " 'Action-Adventure, Science Fiction, Spy/Espionage'\n",
      " 'Action-Adventure, Science Fiction, Superhero' 'Family, Variety'\n",
      " 'Anthology, Comedy, Kids' 'Anthology, Comedy, Family'\n",
      " 'Fantasy, Kids, Mystery' 'Buddy, Coming of Age, Family'\n",
      " 'Animation, Anthology, Kids' 'Animals & Nature, Docuseries, Travel'\n",
      " 'Action-Adventure, Comedy, Science Fiction']\n",
      "streaming_platform\n",
      "['Amazon Prime' 'Hulu' 'Netflix' 'DisneyPlus']\n",
      "duration_seasons\n",
      "[ 1  3  2  6  7  4 15 12  8 23  5 16 20  9 10 13 14 11 29 17 19 30 22 25\n",
      " 34 26 32]\n",
      "date_added\n",
      "['November 12, 2019' 'October 20, 2021' 'October 16, 2021' ...\n",
      " 'May 3, 2021' 'February 25, 2020' 'February 8, 2020']\n",
      "Genre\n",
      "['Comedy/Romance' 'Family/Kids' 'Action/Adventure'\n",
      " 'TV shows/Reality/International/Lifestyle/Sports'\n",
      " 'Anime/Animation/Cartoons'\n",
      " 'Drama/Thriller/Horror/Suspense/Sci-Fi/Fantasy'\n",
      " 'Other/Documentaries/Docuseries']\n"
     ]
    }
   ],
   "source": [
    "for col in tv_df_clean.columns:\n",
    "    print(tv_df_clean[col].name)\n",
    "    print(tv_df_clean[col].unique())"
   ]
  },
  {
   "cell_type": "markdown",
   "id": "7c807551-767e-48c4-bc8d-557f4f562118",
   "metadata": {},
   "source": [
    "It seems that rating column has lot of repetitive ratings and hence replacing them appropriately."
   ]
  },
  {
   "cell_type": "code",
   "execution_count": 15,
   "id": "cce087a4-8bbd-4e06-9579-2d0352bf65cc",
   "metadata": {},
   "outputs": [
    {
     "data": {
      "text/plain": [
       "array(['TV-G', 'TV-MA', 'TV-Y', 'TV-Y7', 'TV-14', 'TV-PG', 'TV-NR', 'R',\n",
       "       'TV-Y7-FV'], dtype=object)"
      ]
     },
     "execution_count": 15,
     "metadata": {},
     "output_type": "execute_result"
    }
   ],
   "source": [
    "#replacing Erroneous Values with values in line with the rest of the data for ratings\n",
    "tv_df_clean.loc[:,'rating'] = tv_df_clean['rating'].replace('18+', 'TV-MA')\n",
    "tv_df_clean.loc[:,'rating'] = tv_df_clean['rating'].replace('16+', 'TV-14')\n",
    "tv_df_clean.loc[:,'rating'] = tv_df_clean['rating'].replace('ALL', 'TV-G')\n",
    "tv_df_clean.loc[:,'rating'] = tv_df_clean['rating'].replace('13+', 'TV-14')\n",
    "tv_df_clean.loc[:,'rating'] = tv_df_clean['rating'].replace('NR', 'TV-NR')\n",
    "tv_df_clean.loc[:,'rating'] = tv_df_clean['rating'].replace('7+', 'TV-Y7')\n",
    "tv_df_clean.loc[:,'rating'] = tv_df_clean['rating'].replace('PG', 'TV-PG')\n",
    "tv_df_clean['rating'].unique()"
   ]
  },
  {
   "cell_type": "code",
   "execution_count": 16,
   "id": "6843a215-76c3-40f0-bfc7-e65afc024493",
   "metadata": {},
   "outputs": [
    {
     "name": "stdout",
     "output_type": "stream",
     "text": [
      "<class 'pandas.core.frame.DataFrame'>\n",
      "Index: 6075 entries, 0 to 6075\n",
      "Data columns (total 9 columns):\n",
      " #   Column              Non-Null Count  Dtype \n",
      "---  ------              --------------  ----- \n",
      " 0   type                6075 non-null   object\n",
      " 1   title               6075 non-null   object\n",
      " 2   release_year        6075 non-null   int64 \n",
      " 3   rating              6075 non-null   object\n",
      " 4   listed_in           6075 non-null   object\n",
      " 5   streaming_platform  6075 non-null   object\n",
      " 6   duration_seasons    6075 non-null   int64 \n",
      " 7   date_added          6075 non-null   object\n",
      " 8   Genre               6075 non-null   object\n",
      "dtypes: int64(2), object(7)\n",
      "memory usage: 474.6+ KB\n"
     ]
    }
   ],
   "source": [
    "tv_df_clean.info()"
   ]
  },
  {
   "cell_type": "markdown",
   "id": "e18036f5-f179-4122-87ab-8235f4e7162c",
   "metadata": {},
   "source": [
    "#### MOVIES FILE CLEANING"
   ]
  },
  {
   "cell_type": "code",
   "execution_count": 17,
   "id": "3ede7e9a-de17-4cd5-a57a-b2102ae7a0bf",
   "metadata": {},
   "outputs": [],
   "source": [
    "movies_df= pd.read_csv('./Data_cleaning/movies.csv')"
   ]
  },
  {
   "cell_type": "code",
   "execution_count": 18,
   "id": "5e043988-573e-45ce-abb7-42d5c42d3d5c",
   "metadata": {},
   "outputs": [
    {
     "data": {
      "text/html": [
       "<div>\n",
       "<style scoped>\n",
       "    .dataframe tbody tr th:only-of-type {\n",
       "        vertical-align: middle;\n",
       "    }\n",
       "\n",
       "    .dataframe tbody tr th {\n",
       "        vertical-align: top;\n",
       "    }\n",
       "\n",
       "    .dataframe thead th {\n",
       "        text-align: right;\n",
       "    }\n",
       "</style>\n",
       "<table border=\"1\" class=\"dataframe\">\n",
       "  <thead>\n",
       "    <tr style=\"text-align: right;\">\n",
       "      <th></th>\n",
       "      <th>type</th>\n",
       "      <th>title</th>\n",
       "      <th>release_year</th>\n",
       "      <th>rating</th>\n",
       "      <th>listed_in</th>\n",
       "      <th>streaming_platform</th>\n",
       "      <th>duration_minutes</th>\n",
       "      <th>date_added</th>\n",
       "      <th>Genre</th>\n",
       "    </tr>\n",
       "  </thead>\n",
       "  <tbody>\n",
       "    <tr>\n",
       "      <th>0</th>\n",
       "      <td>Movie</td>\n",
       "      <td>Take Care Good Night</td>\n",
       "      <td>2018</td>\n",
       "      <td>13+</td>\n",
       "      <td>Drama, International</td>\n",
       "      <td>Amazon Prime</td>\n",
       "      <td>110.0</td>\n",
       "      <td>NaN</td>\n",
       "      <td>Drama/Thriller/Horror/Suspense/Sci-Fi/Fantasy</td>\n",
       "    </tr>\n",
       "    <tr>\n",
       "      <th>1</th>\n",
       "      <td>Movie</td>\n",
       "      <td>Zoombies</td>\n",
       "      <td>2016</td>\n",
       "      <td>13+</td>\n",
       "      <td>Horror, Science Fiction</td>\n",
       "      <td>Amazon Prime</td>\n",
       "      <td>87.0</td>\n",
       "      <td>NaN</td>\n",
       "      <td>Drama/Thriller/Horror/Suspense/Sci-Fi/Fantasy</td>\n",
       "    </tr>\n",
       "    <tr>\n",
       "      <th>2</th>\n",
       "      <td>Movie</td>\n",
       "      <td>Zoe</td>\n",
       "      <td>2018</td>\n",
       "      <td>R</td>\n",
       "      <td>Science Fiction</td>\n",
       "      <td>Amazon Prime</td>\n",
       "      <td>104.0</td>\n",
       "      <td>NaN</td>\n",
       "      <td>Drama/Thriller/Horror/Suspense/Sci-Fi/Fantasy</td>\n",
       "    </tr>\n",
       "    <tr>\n",
       "      <th>3</th>\n",
       "      <td>Movie</td>\n",
       "      <td>Zis Boom Bah</td>\n",
       "      <td>1941</td>\n",
       "      <td>NR</td>\n",
       "      <td>Arts, Entertainment, and Culture, Comedy, Drama</td>\n",
       "      <td>Amazon Prime</td>\n",
       "      <td>62.0</td>\n",
       "      <td>NaN</td>\n",
       "      <td>Other/Documentaries/Docuseries/TV shows/Realit...</td>\n",
       "    </tr>\n",
       "    <tr>\n",
       "      <th>4</th>\n",
       "      <td>Movie</td>\n",
       "      <td>Zandalee</td>\n",
       "      <td>1991</td>\n",
       "      <td>R</td>\n",
       "      <td>Drama</td>\n",
       "      <td>Amazon Prime</td>\n",
       "      <td>94.0</td>\n",
       "      <td>NaN</td>\n",
       "      <td>Drama/Thriller/Horror/Suspense/Sci-Fi/Fantasy</td>\n",
       "    </tr>\n",
       "  </tbody>\n",
       "</table>\n",
       "</div>"
      ],
      "text/plain": [
       "    type                 title  release_year rating  \\\n",
       "0  Movie  Take Care Good Night          2018    13+   \n",
       "1  Movie              Zoombies          2016    13+   \n",
       "2  Movie                   Zoe          2018      R   \n",
       "3  Movie          Zis Boom Bah          1941     NR   \n",
       "4  Movie              Zandalee          1991      R   \n",
       "\n",
       "                                         listed_in streaming_platform  \\\n",
       "0                             Drama, International       Amazon Prime   \n",
       "1                          Horror, Science Fiction       Amazon Prime   \n",
       "2                                  Science Fiction       Amazon Prime   \n",
       "3  Arts, Entertainment, and Culture, Comedy, Drama       Amazon Prime   \n",
       "4                                            Drama       Amazon Prime   \n",
       "\n",
       "   duration_minutes date_added  \\\n",
       "0             110.0        NaN   \n",
       "1              87.0        NaN   \n",
       "2             104.0        NaN   \n",
       "3              62.0        NaN   \n",
       "4              94.0        NaN   \n",
       "\n",
       "                                               Genre  \n",
       "0      Drama/Thriller/Horror/Suspense/Sci-Fi/Fantasy  \n",
       "1      Drama/Thriller/Horror/Suspense/Sci-Fi/Fantasy  \n",
       "2      Drama/Thriller/Horror/Suspense/Sci-Fi/Fantasy  \n",
       "3  Other/Documentaries/Docuseries/TV shows/Realit...  \n",
       "4      Drama/Thriller/Horror/Suspense/Sci-Fi/Fantasy  "
      ]
     },
     "execution_count": 18,
     "metadata": {},
     "output_type": "execute_result"
    }
   ],
   "source": [
    "movies_df.head()"
   ]
  },
  {
   "cell_type": "code",
   "execution_count": 19,
   "id": "8b8e3b26-7847-4762-bef4-095373b318eb",
   "metadata": {},
   "outputs": [
    {
     "name": "stdout",
     "output_type": "stream",
     "text": [
      "<class 'pandas.core.frame.DataFrame'>\n",
      "RangeIndex: 14893 entries, 0 to 14892\n",
      "Data columns (total 9 columns):\n",
      " #   Column              Non-Null Count  Dtype  \n",
      "---  ------              --------------  -----  \n",
      " 0   type                14893 non-null  object \n",
      " 1   title               14893 non-null  object \n",
      " 2   release_year        14893 non-null  int64  \n",
      " 3   rating              14893 non-null  object \n",
      " 4   listed_in           14893 non-null  object \n",
      " 5   streaming_platform  14893 non-null  object \n",
      " 6   duration_minutes    14893 non-null  float64\n",
      " 7   date_added          8079 non-null   object \n",
      " 8   Genre               14893 non-null  object \n",
      "dtypes: float64(1), int64(1), object(7)\n",
      "memory usage: 1.0+ MB\n"
     ]
    }
   ],
   "source": [
    "movies_df.info()"
   ]
  },
  {
   "cell_type": "code",
   "execution_count": 20,
   "id": "2809fc5e-2b0e-445a-b249-76022a888a1b",
   "metadata": {},
   "outputs": [
    {
     "data": {
      "text/html": [
       "<div>\n",
       "<style scoped>\n",
       "    .dataframe tbody tr th:only-of-type {\n",
       "        vertical-align: middle;\n",
       "    }\n",
       "\n",
       "    .dataframe tbody tr th {\n",
       "        vertical-align: top;\n",
       "    }\n",
       "\n",
       "    .dataframe thead th {\n",
       "        text-align: right;\n",
       "    }\n",
       "</style>\n",
       "<table border=\"1\" class=\"dataframe\">\n",
       "  <thead>\n",
       "    <tr style=\"text-align: right;\">\n",
       "      <th></th>\n",
       "      <th>release_year</th>\n",
       "      <th>duration_minutes</th>\n",
       "    </tr>\n",
       "  </thead>\n",
       "  <tbody>\n",
       "    <tr>\n",
       "      <th>count</th>\n",
       "      <td>14893.000000</td>\n",
       "      <td>14893.000000</td>\n",
       "    </tr>\n",
       "    <tr>\n",
       "      <th>mean</th>\n",
       "      <td>2008.810851</td>\n",
       "      <td>94.018304</td>\n",
       "    </tr>\n",
       "    <tr>\n",
       "      <th>std</th>\n",
       "      <td>17.506946</td>\n",
       "      <td>28.090578</td>\n",
       "    </tr>\n",
       "    <tr>\n",
       "      <th>min</th>\n",
       "      <td>1920.000000</td>\n",
       "      <td>1.000000</td>\n",
       "    </tr>\n",
       "    <tr>\n",
       "      <th>25%</th>\n",
       "      <td>2007.000000</td>\n",
       "      <td>82.000000</td>\n",
       "    </tr>\n",
       "    <tr>\n",
       "      <th>50%</th>\n",
       "      <td>2016.000000</td>\n",
       "      <td>94.000000</td>\n",
       "    </tr>\n",
       "    <tr>\n",
       "      <th>75%</th>\n",
       "      <td>2019.000000</td>\n",
       "      <td>109.000000</td>\n",
       "    </tr>\n",
       "    <tr>\n",
       "      <th>max</th>\n",
       "      <td>2021.000000</td>\n",
       "      <td>312.000000</td>\n",
       "    </tr>\n",
       "  </tbody>\n",
       "</table>\n",
       "</div>"
      ],
      "text/plain": [
       "       release_year  duration_minutes\n",
       "count  14893.000000      14893.000000\n",
       "mean    2008.810851         94.018304\n",
       "std       17.506946         28.090578\n",
       "min     1920.000000          1.000000\n",
       "25%     2007.000000         82.000000\n",
       "50%     2016.000000         94.000000\n",
       "75%     2019.000000        109.000000\n",
       "max     2021.000000        312.000000"
      ]
     },
     "execution_count": 20,
     "metadata": {},
     "output_type": "execute_result"
    }
   ],
   "source": [
    "movies_df.describe()"
   ]
  },
  {
   "cell_type": "markdown",
   "id": "28dceaec-5c5b-41e0-90ef-7f74e874c7f4",
   "metadata": {},
   "source": [
    "#### Checking for null values and Duplicates"
   ]
  },
  {
   "cell_type": "code",
   "execution_count": 21,
   "id": "077917a9-e4e3-4769-a92e-89b3881e752e",
   "metadata": {},
   "outputs": [
    {
     "data": {
      "text/plain": [
       "type                     0\n",
       "title                    0\n",
       "release_year             0\n",
       "rating                   0\n",
       "listed_in                0\n",
       "streaming_platform       0\n",
       "duration_minutes         0\n",
       "date_added            6814\n",
       "Genre                    0\n",
       "dtype: int64"
      ]
     },
     "execution_count": 21,
     "metadata": {},
     "output_type": "execute_result"
    }
   ],
   "source": [
    "movies_df.isna().sum()"
   ]
  },
  {
   "cell_type": "code",
   "execution_count": 22,
   "id": "3ecbee19-f9d0-40ec-b730-f6972c0be969",
   "metadata": {},
   "outputs": [
    {
     "data": {
      "text/plain": [
       "array([nan, 'October 24, 2021', 'October 23, 2021', ...,\n",
       "       'February 2, 2020', 'January 28, 2020', 'January 8, 2020'],\n",
       "      dtype=object)"
      ]
     },
     "execution_count": 22,
     "metadata": {},
     "output_type": "execute_result"
    }
   ],
   "source": [
    "movies_df['date_added'].unique()"
   ]
  },
  {
   "cell_type": "markdown",
   "id": "c2028204-d70a-4801-b2d1-c265a1791580",
   "metadata": {},
   "source": [
    "#### Checking the distribution of the plot to determine strategy for imputation"
   ]
  },
  {
   "cell_type": "code",
   "execution_count": 23,
   "id": "ce8d4c12-403c-4059-8a8b-76303bd9386d",
   "metadata": {},
   "outputs": [
    {
     "data": {
      "image/png": "[encoded data removed]",
      "text/plain": [
       "<Figure size 500x500 with 1 Axes>"
      ]
     },
     "metadata": {},
     "output_type": "display_data"
    }
   ],
   "source": [
    "import matplotlib.pyplot as plt\n",
    "import seaborn as sns\n",
    "\n",
    "sns.displot(x= movies_df['date_added'].value_counts())\n",
    "plt.xlabel('Date_added values')\n",
    "plt.ylabel('Count')\n",
    "plt.title('Distribution of Date added column') \n",
    "sns.despine()"
   ]
  },
  {
   "cell_type": "markdown",
   "id": "afcd3f7d-616b-4587-9354-385968f654a9",
   "metadata": {},
   "source": [
    "The distribution for the date_added column is right skewed and hence imputing the date with mode strategy "
   ]
  },
  {
   "cell_type": "markdown",
   "id": "c178ef2b-7626-4164-b42d-a6265e6548c6",
   "metadata": {},
   "source": [
    "#### Imputing date_added column with mode strategy"
   ]
  },
  {
   "cell_type": "code",
   "execution_count": 24,
   "id": "550b6fcb-bf2b-49f8-abae-0573532d2b1d",
   "metadata": {},
   "outputs": [],
   "source": [
    "from sklearn.impute import SimpleImputer # import the SimpleImputer class\n",
    "cat_imputer = SimpleImputer(strategy='most_frequent') \n",
    "movies_df.loc[:,'date_added'] = cat_imputer.fit_transform(movies_df['date_added'].values.reshape(-1, 1)).ravel()"
   ]
  },
  {
   "cell_type": "code",
   "execution_count": 25,
   "id": "32e11f7e-8d70-4687-9260-6f18e14dcced",
   "metadata": {},
   "outputs": [
    {
     "data": {
      "text/plain": [
       "type                  0\n",
       "title                 0\n",
       "release_year          0\n",
       "rating                0\n",
       "listed_in             0\n",
       "streaming_platform    0\n",
       "duration_minutes      0\n",
       "date_added            0\n",
       "Genre                 0\n",
       "dtype: int64"
      ]
     },
     "execution_count": 25,
     "metadata": {},
     "output_type": "execute_result"
    }
   ],
   "source": [
    "movies_df.isna().sum()"
   ]
  },
  {
   "cell_type": "markdown",
   "id": "ab199e69-7302-4566-871e-3a41c6f20580",
   "metadata": {},
   "source": [
    "Checking and dropping the duplicated rows"
   ]
  },
  {
   "cell_type": "code",
   "execution_count": 26,
   "id": "31349e82-0c47-426d-aa90-b81e6ae4416f",
   "metadata": {},
   "outputs": [
    {
     "data": {
      "text/plain": [
       "2"
      ]
     },
     "execution_count": 26,
     "metadata": {},
     "output_type": "execute_result"
    }
   ],
   "source": [
    "movies_df.duplicated().sum()"
   ]
  },
  {
   "cell_type": "code",
   "execution_count": 27,
   "id": "472867d8-4a66-4678-972d-db67bdaaaca5",
   "metadata": {},
   "outputs": [],
   "source": [
    "movies_df_clean = movies_df.drop_duplicates()"
   ]
  },
  {
   "cell_type": "code",
   "execution_count": 28,
   "id": "f4b3fcb6-9de1-4281-9429-c1047cc8b896",
   "metadata": {},
   "outputs": [
    {
     "name": "stdout",
     "output_type": "stream",
     "text": [
      "<class 'pandas.core.frame.DataFrame'>\n",
      "Index: 14891 entries, 0 to 14892\n",
      "Data columns (total 9 columns):\n",
      " #   Column              Non-Null Count  Dtype  \n",
      "---  ------              --------------  -----  \n",
      " 0   type                14891 non-null  object \n",
      " 1   title               14891 non-null  object \n",
      " 2   release_year        14891 non-null  int64  \n",
      " 3   rating              14891 non-null  object \n",
      " 4   listed_in           14891 non-null  object \n",
      " 5   streaming_platform  14891 non-null  object \n",
      " 6   duration_minutes    14891 non-null  float64\n",
      " 7   date_added          14891 non-null  object \n",
      " 8   Genre               14891 non-null  object \n",
      "dtypes: float64(1), int64(1), object(7)\n",
      "memory usage: 1.1+ MB\n"
     ]
    }
   ],
   "source": [
    "movies_df_clean.info()"
   ]
  },
  {
   "cell_type": "markdown",
   "id": "763fc462-eb7e-44d2-8a66-3768b306e496",
   "metadata": {},
   "source": [
    "#### Check for Erroneous values and replace or remove them if necessary"
   ]
  },
  {
   "cell_type": "code",
   "execution_count": 29,
   "id": "d1105c63-8b27-4acc-b196-aebb3ede5b1d",
   "metadata": {},
   "outputs": [
    {
     "name": "stdout",
     "output_type": "stream",
     "text": [
      "type\n",
      "['Movie']\n",
      "title\n",
      "['Take Care Good Night' 'Zoombies' 'Zoe' ... 'Eddie the Eagle'\n",
      " 'Bend It Like Beckham' 'Captain Sparky vs. The Flying Saucers']\n",
      "release_year\n",
      "[2018 2016 1941 1991 2005 1949 2007 2015 1955 2019 2001 1983 2008 2020\n",
      " 1986 1994 2017 1988 1920 1936 1992 2011 2021 1993 2012 2006 1948 1946\n",
      " 1944 1935 1985 1937 1970 1945 2014 1939 1969 1996 1997 1974 2013 1938\n",
      " 1978 2004 2002 1960 1934 2009 1940 2003 2000 1967 1995 1951 1932 1959\n",
      " 1943 1999 1975 1963 1952 1947 2010 1929 1990 1925 1968 1987 1942 1961\n",
      " 1979 1980 1976 1966 1973 1956 1950 1953 1982 1933 1958 1989 1984 1998\n",
      " 1981 1924 1922 1926 1954 1930 1971 1965 1931 1923 1977 1962 1972 1964\n",
      " 1957 1927 1928]\n",
      "rating\n",
      "['13+' 'R' 'NR' 'ALL' '18+' 'PG-13' '16+' '7+' 'G' 'PG' 'NC-17' 'UNRATED'\n",
      " 'TV-MA' 'TV-14' 'TV-PG' 'TV-Y' 'TV-G' 'TV-Y7' 'TV-Y7-FV']\n",
      "listed_in\n",
      "['Drama, International' 'Horror, Science Fiction' 'Science Fiction' ...\n",
      " 'Animation, Family, Mystery' 'Biographical, Comedy, Drama'\n",
      " 'Action-Adventure, Animals & Nature, Animation']\n",
      "streaming_platform\n",
      "['Amazon Prime' 'Hulu' 'Netflix' 'DisneyPlus']\n",
      "duration_minutes\n",
      "[110.          87.         104.          62.          94.\n",
      "  50.          86.          36.          37.         103.\n",
      "  60.          54.          84.         126.         125.\n",
      " 109.          89.          85.          40.         111.\n",
      "  33.          34.          95.          99.          78.\n",
      "  77.          55.          53.         115.          58.\n",
      "  49.         135.          91.          64.         131.\n",
      "  59.          52.         122.          92.          90.\n",
      " 102.          65.         114.          56.         136.\n",
      "  70.         138.         113.         100.          68.\n",
      "  57.          96.          98.          88.          31.\n",
      " 151.         149.          35.         141.         121.\n",
      "  48.         140.          46.          51.         106.\n",
      "  93.          69.         107.         108.          38.\n",
      "  43.         118.         112.         116.         142.\n",
      "  75.          71.          42.          81.          32.\n",
      "  66.          67.         132.         101.          73.\n",
      "  80.          61.          79.          83.          44.\n",
      "  45.         120.          97.          74.         105.\n",
      "  82.         127.          72.         123.         124.\n",
      " 143.          47.         146.         128.         133.\n",
      " 148.         144.         119.          63.         137.\n",
      "  76.          39.         134.         139.         145.\n",
      "  41.         147.         117.         129.         130.\n",
      " 150.          96.50121457 157.         181.         182.\n",
      " 170.         162.         152.         161.          23.\n",
      "   1.         153.           2.           5.           6.\n",
      "   4.          25.          26.          10.          11.\n",
      "  12.          13.          14.          15.         154.\n",
      " 155.         156.         158.         159.          16.\n",
      " 160.         163.         164.         165.         166.\n",
      " 167.         168.         169.          17.         171.\n",
      " 172.         173.         174.         176.         177.\n",
      " 178.         179.          18.         180.         185.\n",
      " 186.         187.         189.          19.         190.\n",
      " 191.         192.         193.         194.         195.\n",
      " 196.          20.         200.         201.         203.\n",
      " 204.         205.         208.         209.          21.\n",
      " 212.         214.          22.         224.         228.\n",
      " 229.         230.         233.         237.          24.\n",
      " 253.          27.         273.          28.          29.\n",
      "   3.          30.         312.           8.           9.\n",
      "   7.         183.         175.        ]\n",
      "date_added\n",
      "['November 12, 2019' 'October 24, 2021' 'October 23, 2021' ...\n",
      " 'February 2, 2020' 'January 28, 2020' 'January 8, 2020']\n",
      "Genre\n",
      "['Drama/Thriller/Horror/Suspense/Sci-Fi/Fantasy'\n",
      " 'Other/Documentaries/Docuseries/TV shows/Reality/International/Lifestyle/Sports'\n",
      " 'Action/Adventure' 'Family/Kids' 'Comedy/Romance'\n",
      " 'Anime/Animation/Cartoons']\n"
     ]
    }
   ],
   "source": [
    "for col in movies_df_clean.columns:\n",
    "    print(movies_df_clean[col].name)\n",
    "    print(movies_df_clean[col].unique())"
   ]
  },
  {
   "cell_type": "markdown",
   "id": "e55b80a0-4ecf-4996-86c7-004a9e92a45f",
   "metadata": {},
   "source": [
    "It seems that the rating column has repetitive ratings and hence replacing the values appropriately."
   ]
  },
  {
   "cell_type": "code",
   "execution_count": 30,
   "id": "d2d40686-298c-48ed-8c09-d4061891ed23",
   "metadata": {},
   "outputs": [
    {
     "data": {
      "text/plain": [
       "array(['PG-13', 'R', 'NR', 'G', '18+', '16+', '7+', 'PG', 'TV-Y'],\n",
       "      dtype=object)"
      ]
     },
     "execution_count": 30,
     "metadata": {},
     "output_type": "execute_result"
    }
   ],
   "source": [
    "#replacing Erroneous Values with values in line with the rest of the data for ratings\n",
    "movies_df_clean.loc[:,'rating'] = movies_df_clean['rating'].replace('TV-MA', '18+')\n",
    "movies_df_clean.loc[:,'rating'] = movies_df_clean['rating'].replace('TV-14', '16+')\n",
    "movies_df_clean.loc[:,'rating'] = movies_df_clean['rating'].replace('ALL', 'G')\n",
    "movies_df_clean.loc[:,'rating'] = movies_df_clean['rating'].replace('13+', 'PG-13')\n",
    "movies_df_clean.loc[:,'rating'] = movies_df_clean['rating'].replace('NC-17', '18+')\n",
    "movies_df_clean.loc[:,'rating'] = movies_df_clean['rating'].replace('TV-Y7', '7+')\n",
    "movies_df_clean.loc[:,'rating'] = movies_df_clean['rating'].replace('TV-G', 'G')\n",
    "movies_df_clean.loc[:,'rating'] = movies_df_clean['rating'].replace('TV-PG', 'PG')\n",
    "movies_df_clean.loc[:,'rating'] = movies_df_clean['rating'].replace('UNRATED', 'NR')\n",
    "movies_df_clean.loc[:,'rating'] = movies_df_clean['rating'].replace('TV-Y7-FV', '7+')\n",
    "movies_df_clean['rating'].unique()"
   ]
  },
  {
   "cell_type": "code",
   "execution_count": 31,
   "id": "e0801912-2430-4346-8e5c-a7560733d779",
   "metadata": {},
   "outputs": [
    {
     "name": "stdout",
     "output_type": "stream",
     "text": [
      "<class 'pandas.core.frame.DataFrame'>\n",
      "Index: 14891 entries, 0 to 14892\n",
      "Data columns (total 9 columns):\n",
      " #   Column              Non-Null Count  Dtype  \n",
      "---  ------              --------------  -----  \n",
      " 0   type                14891 non-null  object \n",
      " 1   title               14891 non-null  object \n",
      " 2   release_year        14891 non-null  int64  \n",
      " 3   rating              14891 non-null  object \n",
      " 4   listed_in           14891 non-null  object \n",
      " 5   streaming_platform  14891 non-null  object \n",
      " 6   duration_minutes    14891 non-null  float64\n",
      " 7   date_added          14891 non-null  object \n",
      " 8   Genre               14891 non-null  object \n",
      "dtypes: float64(1), int64(1), object(7)\n",
      "memory usage: 1.1+ MB\n"
     ]
    }
   ],
   "source": [
    "movies_df_clean.info()"
   ]
  },
  {
   "cell_type": "code",
   "execution_count": 32,
   "id": "86e8fb21-77f9-4002-8a80-03a20348613d",
   "metadata": {},
   "outputs": [],
   "source": [
    "#removing outliers that where not previously removed\n",
    "Q1 = movies_df_clean['duration_minutes'].quantile(0.25)\n",
    "Q3 = movies_df_clean['duration_minutes'].quantile(0.75)\n",
    "IQR = Q3 - Q1\n",
    "\n",
    "# Determine outlier bounds\n",
    "lower_bound = Q1 - 1.5 * IQR\n",
    "upper_bound = Q3 + 1.5 * IQR\n",
    "\n",
    "# Filter the DataFrame to remove outliers in 'duration_minutes'\n",
    "movies_df_clean = movies_df_clean[(movies_df_clean['duration_minutes'] >= lower_bound) & (movies_df_clean['duration_minutes'] <= upper_bound)]"
   ]
  },
  {
   "cell_type": "code",
   "execution_count": 33,
   "id": "55b82b56-401b-4106-b11b-a683bdb884b5",
   "metadata": {},
   "outputs": [
    {
     "name": "stdout",
     "output_type": "stream",
     "text": [
      "<class 'pandas.core.frame.DataFrame'>\n",
      "Index: 13952 entries, 0 to 14891\n",
      "Data columns (total 9 columns):\n",
      " #   Column              Non-Null Count  Dtype  \n",
      "---  ------              --------------  -----  \n",
      " 0   type                13952 non-null  object \n",
      " 1   title               13952 non-null  object \n",
      " 2   release_year        13952 non-null  int64  \n",
      " 3   rating              13952 non-null  object \n",
      " 4   listed_in           13952 non-null  object \n",
      " 5   streaming_platform  13952 non-null  object \n",
      " 6   duration_minutes    13952 non-null  float64\n",
      " 7   date_added          13952 non-null  object \n",
      " 8   Genre               13952 non-null  object \n",
      "dtypes: float64(1), int64(1), object(7)\n",
      "memory usage: 1.1+ MB\n"
     ]
    }
   ],
   "source": [
    "movies_df_clean.info()"
   ]
  },
  {
   "cell_type": "markdown",
   "id": "2df6e2b2-d7c1-454c-82fc-57a33cba7ef1",
   "metadata": {},
   "source": [
    "### Exporting the dataset for further EDA and Predictive Analytics"
   ]
  },
  {
   "cell_type": "code",
   "execution_count": 34,
   "id": "2000eb68-1c40-4f38-a5f9-c0d6e1d3ae7d",
   "metadata": {},
   "outputs": [],
   "source": [
    "tv_df_csv = tv_df_clean.to_csv('TV_shows_clean_final.csv', index = False)\n",
    "movies_df_csv = movies_df_clean.to_csv('Movies_clean_final.csv', index = False)"
   ]
  }
 ],
 "metadata": {
  "kernelspec": {
   "display_name": "Python 3 (ipykernel)",
   "language": "python",
   "name": "python3"
  },
  "language_info": {
   "codemirror_mode": {
    "name": "ipython",
    "version": 3
   },
   "file_extension": ".py",
   "mimetype": "text/x-python",
   "name": "python",
   "nbconvert_exporter": "python",
   "pygments_lexer": "ipython3",
   "version": "3.11.7"
  }
 },
 "nbformat": 4,
 "nbformat_minor": 5
}
