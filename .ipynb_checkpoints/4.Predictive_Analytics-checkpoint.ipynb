{
 "cells": [
  {
   "cell_type": "markdown",
   "id": "7fb2c32f-f126-44c5-b3cb-c6b1a1720a30",
   "metadata": {},
   "source": [
    "## Movies and TV shows Genre Classification System"
   ]
  },
  {
   "cell_type": "code",
   "execution_count": 1,
   "id": "134271fa-99a2-45b0-87f4-18745a7fcc05",
   "metadata": {},
   "outputs": [],
   "source": [
    "import pandas as pd\n",
    "import numpy as np\n",
    "import warnings\n",
    "warnings.filterwarnings('ignore')"
   ]
  },
  {
   "cell_type": "markdown",
   "id": "bdc7cc9c-af32-4c42-a3da-d29c6578d403",
   "metadata": {},
   "source": [
    "#### Reading the cleaned files"
   ]
  },
  {
   "cell_type": "code",
   "execution_count": 2,
   "id": "11cd1522-76db-4168-8183-58bedc917773",
   "metadata": {},
   "outputs": [],
   "source": [
    "tv_df = pd.read_csv('TV_shows_clean_final.csv')\n",
    "movies_df = pd.read_csv('Movies_clean_final.csv')"
   ]
  },
  {
   "cell_type": "code",
   "execution_count": 3,
   "id": "a61603d8-0103-44dc-a1fd-da745cf64b97",
   "metadata": {},
   "outputs": [
    {
     "name": "stdout",
     "output_type": "stream",
     "text": [
      "<class 'pandas.core.frame.DataFrame'>\n",
      "RangeIndex: 6075 entries, 0 to 6074\n",
      "Data columns (total 9 columns):\n",
      " #   Column              Non-Null Count  Dtype \n",
      "---  ------              --------------  ----- \n",
      " 0   type                6075 non-null   object\n",
      " 1   title               6075 non-null   object\n",
      " 2   release_year        6075 non-null   int64 \n",
      " 3   rating              6075 non-null   object\n",
      " 4   listed_in           6075 non-null   object\n",
      " 5   streaming_platform  6075 non-null   object\n",
      " 6   duration_seasons    6075 non-null   int64 \n",
      " 7   date_added          6075 non-null   object\n",
      " 8   Genre               6075 non-null   object\n",
      "dtypes: int64(2), object(7)\n",
      "memory usage: 427.3+ KB\n"
     ]
    }
   ],
   "source": [
    "tv_df.info()"
   ]
  },
  {
   "cell_type": "markdown",
   "id": "b18c2878-964c-4aa4-8352-8ade25f18c2e",
   "metadata": {},
   "source": [
    "#### TV_Shows Genre Classification System"
   ]
  },
  {
   "cell_type": "markdown",
   "id": "53c10b54-ad5b-45f7-a4d0-b313673c1659",
   "metadata": {},
   "source": [
    "#### Data Transformation\n",
    "\n",
    "Converting categorical data into numeric data types"
   ]
  },
  {
   "cell_type": "code",
   "execution_count": 4,
   "id": "815280e3-d25f-4094-82d9-2d47a8f56f47",
   "metadata": {},
   "outputs": [
    {
     "data": {
      "text/plain": [
       "type                  object\n",
       "title                 object\n",
       "release_year           int64\n",
       "rating                object\n",
       "listed_in             object\n",
       "streaming_platform    object\n",
       "duration_seasons       int64\n",
       "date_added            object\n",
       "Genre                 object\n",
       "dtype: object"
      ]
     },
     "execution_count": 4,
     "metadata": {},
     "output_type": "execute_result"
    }
   ],
   "source": [
    "tv_df.dtypes"
   ]
  },
  {
   "cell_type": "code",
   "execution_count": 5,
   "id": "5001d5fe-321e-4238-b72b-5d3753467002",
   "metadata": {},
   "outputs": [
    {
     "data": {
      "text/html": [
       "<div>\n",
       "<style scoped>\n",
       "    .dataframe tbody tr th:only-of-type {\n",
       "        vertical-align: middle;\n",
       "    }\n",
       "\n",
       "    .dataframe tbody tr th {\n",
       "        vertical-align: top;\n",
       "    }\n",
       "\n",
       "    .dataframe thead th {\n",
       "        text-align: right;\n",
       "    }\n",
       "</style>\n",
       "<table border=\"1\" class=\"dataframe\">\n",
       "  <thead>\n",
       "    <tr style=\"text-align: right;\">\n",
       "      <th></th>\n",
       "      <th>type</th>\n",
       "      <th>title</th>\n",
       "      <th>release_year</th>\n",
       "      <th>listed_in</th>\n",
       "      <th>duration_seasons</th>\n",
       "      <th>date_added</th>\n",
       "      <th>Genre</th>\n",
       "      <th>rating_R</th>\n",
       "      <th>rating_TV-14</th>\n",
       "      <th>rating_TV-G</th>\n",
       "      <th>rating_TV-MA</th>\n",
       "      <th>rating_TV-NR</th>\n",
       "      <th>rating_TV-PG</th>\n",
       "      <th>rating_TV-Y</th>\n",
       "      <th>rating_TV-Y7</th>\n",
       "      <th>rating_TV-Y7-FV</th>\n",
       "      <th>streaming_platform_Amazon Prime</th>\n",
       "      <th>streaming_platform_DisneyPlus</th>\n",
       "      <th>streaming_platform_Hulu</th>\n",
       "      <th>streaming_platform_Netflix</th>\n",
       "    </tr>\n",
       "  </thead>\n",
       "  <tbody>\n",
       "    <tr>\n",
       "      <th>0</th>\n",
       "      <td>TV Show</td>\n",
       "      <td>Wipeout Canada</td>\n",
       "      <td>2011</td>\n",
       "      <td>Comedy, Documentary, Unscripted</td>\n",
       "      <td>1</td>\n",
       "      <td>November 12, 2019</td>\n",
       "      <td>Comedy/Romance</td>\n",
       "      <td>0</td>\n",
       "      <td>0</td>\n",
       "      <td>1</td>\n",
       "      <td>0</td>\n",
       "      <td>0</td>\n",
       "      <td>0</td>\n",
       "      <td>0</td>\n",
       "      <td>0</td>\n",
       "      <td>0</td>\n",
       "      <td>1</td>\n",
       "      <td>0</td>\n",
       "      <td>0</td>\n",
       "      <td>0</td>\n",
       "    </tr>\n",
       "    <tr>\n",
       "      <th>1</th>\n",
       "      <td>TV Show</td>\n",
       "      <td>Zoo Babies</td>\n",
       "      <td>2008</td>\n",
       "      <td>Kids, Special Interest</td>\n",
       "      <td>1</td>\n",
       "      <td>November 12, 2019</td>\n",
       "      <td>Family/Kids</td>\n",
       "      <td>0</td>\n",
       "      <td>0</td>\n",
       "      <td>1</td>\n",
       "      <td>0</td>\n",
       "      <td>0</td>\n",
       "      <td>0</td>\n",
       "      <td>0</td>\n",
       "      <td>0</td>\n",
       "      <td>0</td>\n",
       "      <td>1</td>\n",
       "      <td>0</td>\n",
       "      <td>0</td>\n",
       "      <td>0</td>\n",
       "    </tr>\n",
       "    <tr>\n",
       "      <th>2</th>\n",
       "      <td>TV Show</td>\n",
       "      <td>Zoë Coombs Marr: Bossy Bottom</td>\n",
       "      <td>2020</td>\n",
       "      <td>Comedy, Talk Show and Variety</td>\n",
       "      <td>1</td>\n",
       "      <td>November 12, 2019</td>\n",
       "      <td>Comedy/Romance</td>\n",
       "      <td>0</td>\n",
       "      <td>0</td>\n",
       "      <td>0</td>\n",
       "      <td>1</td>\n",
       "      <td>0</td>\n",
       "      <td>0</td>\n",
       "      <td>0</td>\n",
       "      <td>0</td>\n",
       "      <td>0</td>\n",
       "      <td>1</td>\n",
       "      <td>0</td>\n",
       "      <td>0</td>\n",
       "      <td>0</td>\n",
       "    </tr>\n",
       "    <tr>\n",
       "      <th>3</th>\n",
       "      <td>TV Show</td>\n",
       "      <td>Zoboomafoo</td>\n",
       "      <td>2001</td>\n",
       "      <td>Kids</td>\n",
       "      <td>1</td>\n",
       "      <td>November 12, 2019</td>\n",
       "      <td>Family/Kids</td>\n",
       "      <td>0</td>\n",
       "      <td>0</td>\n",
       "      <td>0</td>\n",
       "      <td>0</td>\n",
       "      <td>0</td>\n",
       "      <td>0</td>\n",
       "      <td>1</td>\n",
       "      <td>0</td>\n",
       "      <td>0</td>\n",
       "      <td>1</td>\n",
       "      <td>0</td>\n",
       "      <td>0</td>\n",
       "      <td>0</td>\n",
       "    </tr>\n",
       "    <tr>\n",
       "      <th>4</th>\n",
       "      <td>TV Show</td>\n",
       "      <td>Zo Zo Zombie: Mini-Series</td>\n",
       "      <td>2020</td>\n",
       "      <td>Action, Anime, Comedy</td>\n",
       "      <td>1</td>\n",
       "      <td>November 12, 2019</td>\n",
       "      <td>Action/Adventure</td>\n",
       "      <td>0</td>\n",
       "      <td>0</td>\n",
       "      <td>0</td>\n",
       "      <td>0</td>\n",
       "      <td>0</td>\n",
       "      <td>0</td>\n",
       "      <td>0</td>\n",
       "      <td>1</td>\n",
       "      <td>0</td>\n",
       "      <td>1</td>\n",
       "      <td>0</td>\n",
       "      <td>0</td>\n",
       "      <td>0</td>\n",
       "    </tr>\n",
       "  </tbody>\n",
       "</table>\n",
       "</div>"
      ],
      "text/plain": [
       "      type                          title  release_year  \\\n",
       "0  TV Show                 Wipeout Canada          2011   \n",
       "1  TV Show                     Zoo Babies          2008   \n",
       "2  TV Show  Zoë Coombs Marr: Bossy Bottom          2020   \n",
       "3  TV Show                     Zoboomafoo          2001   \n",
       "4  TV Show      Zo Zo Zombie: Mini-Series          2020   \n",
       "\n",
       "                         listed_in  duration_seasons         date_added  \\\n",
       "0  Comedy, Documentary, Unscripted                 1  November 12, 2019   \n",
       "1           Kids, Special Interest                 1  November 12, 2019   \n",
       "2    Comedy, Talk Show and Variety                 1  November 12, 2019   \n",
       "3                             Kids                 1  November 12, 2019   \n",
       "4            Action, Anime, Comedy                 1  November 12, 2019   \n",
       "\n",
       "              Genre  rating_R  rating_TV-14  rating_TV-G  rating_TV-MA  \\\n",
       "0    Comedy/Romance         0             0            1             0   \n",
       "1       Family/Kids         0             0            1             0   \n",
       "2    Comedy/Romance         0             0            0             1   \n",
       "3       Family/Kids         0             0            0             0   \n",
       "4  Action/Adventure         0             0            0             0   \n",
       "\n",
       "   rating_TV-NR  rating_TV-PG  rating_TV-Y  rating_TV-Y7  rating_TV-Y7-FV  \\\n",
       "0             0             0            0             0                0   \n",
       "1             0             0            0             0                0   \n",
       "2             0             0            0             0                0   \n",
       "3             0             0            1             0                0   \n",
       "4             0             0            0             1                0   \n",
       "\n",
       "   streaming_platform_Amazon Prime  streaming_platform_DisneyPlus  \\\n",
       "0                                1                              0   \n",
       "1                                1                              0   \n",
       "2                                1                              0   \n",
       "3                                1                              0   \n",
       "4                                1                              0   \n",
       "\n",
       "   streaming_platform_Hulu  streaming_platform_Netflix  \n",
       "0                        0                           0  \n",
       "1                        0                           0  \n",
       "2                        0                           0  \n",
       "3                        0                           0  \n",
       "4                        0                           0  "
      ]
     },
     "execution_count": 5,
     "metadata": {},
     "output_type": "execute_result"
    }
   ],
   "source": [
    "tv_df = pd.get_dummies(tv_df, columns=['rating', 'streaming_platform'], dtype=int)\n",
    "\n",
    "tv_df.head()"
   ]
  },
  {
   "cell_type": "markdown",
   "id": "eefdff0e-3026-4597-9f99-772a7c702eed",
   "metadata": {},
   "source": [
    "#### Split the data into Training and Test Data"
   ]
  },
  {
   "cell_type": "code",
   "execution_count": 6,
   "id": "ed720503-24ed-4b63-955f-350a0c8db22a",
   "metadata": {},
   "outputs": [],
   "source": [
    "from sklearn.model_selection import train_test_split\n",
    "\n",
    "# separate features and target\n",
    "X = tv_df.drop(['type','title','date_added','listed_in','Genre'], axis=1)\n",
    "y = tv_df['Genre']\n",
    "\n",
    "# split data into training set and test set\n",
    "X_train, X_test, y_train, y_test = train_test_split(X, y, test_size=0.2, random_state=1) "
   ]
  },
  {
   "cell_type": "code",
   "execution_count": 7,
   "id": "cd5a4dcd-4eaa-4e16-adb0-5c20e9e79495",
   "metadata": {},
   "outputs": [
    {
     "data": {
      "text/html": [
       "<style>#sk-container-id-1 {color: black;background-color: white;}#sk-container-id-1 pre{padding: 0;}#sk-container-id-1 div.sk-toggleable {background-color: white;}#sk-container-id-1 label.sk-toggleable__label {cursor: pointer;display: block;width: 100%;margin-bottom: 0;padding: 0.3em;box-sizing: border-box;text-align: center;}#sk-container-id-1 label.sk-toggleable__label-arrow:before {content: \"▸\";float: left;margin-right: 0.25em;color: #696969;}#sk-container-id-1 label.sk-toggleable__label-arrow:hover:before {color: black;}#sk-container-id-1 div.sk-estimator:hover label.sk-toggleable__label-arrow:before {color: black;}#sk-container-id-1 div.sk-toggleable__content {max-height: 0;max-width: 0;overflow: hidden;text-align: left;background-color: #f0f8ff;}#sk-container-id-1 div.sk-toggleable__content pre {margin: 0.2em;color: black;border-radius: 0.25em;background-color: #f0f8ff;}#sk-container-id-1 input.sk-toggleable__control:checked~div.sk-toggleable__content {max-height: 200px;max-width: 100%;overflow: auto;}#sk-container-id-1 input.sk-toggleable__control:checked~label.sk-toggleable__label-arrow:before {content: \"▾\";}#sk-container-id-1 div.sk-estimator input.sk-toggleable__control:checked~label.sk-toggleable__label {background-color: #d4ebff;}#sk-container-id-1 div.sk-label input.sk-toggleable__control:checked~label.sk-toggleable__label {background-color: #d4ebff;}#sk-container-id-1 input.sk-hidden--visually {border: 0;clip: rect(1px 1px 1px 1px);clip: rect(1px, 1px, 1px, 1px);height: 1px;margin: -1px;overflow: hidden;padding: 0;position: absolute;width: 1px;}#sk-container-id-1 div.sk-estimator {font-family: monospace;background-color: #f0f8ff;border: 1px dotted black;border-radius: 0.25em;box-sizing: border-box;margin-bottom: 0.5em;}#sk-container-id-1 div.sk-estimator:hover {background-color: #d4ebff;}#sk-container-id-1 div.sk-parallel-item::after {content: \"\";width: 100%;border-bottom: 1px solid gray;flex-grow: 1;}#sk-container-id-1 div.sk-label:hover label.sk-toggleable__label {background-color: #d4ebff;}#sk-container-id-1 div.sk-serial::before {content: \"\";position: absolute;border-left: 1px solid gray;box-sizing: border-box;top: 0;bottom: 0;left: 50%;z-index: 0;}#sk-container-id-1 div.sk-serial {display: flex;flex-direction: column;align-items: center;background-color: white;padding-right: 0.2em;padding-left: 0.2em;position: relative;}#sk-container-id-1 div.sk-item {position: relative;z-index: 1;}#sk-container-id-1 div.sk-parallel {display: flex;align-items: stretch;justify-content: center;background-color: white;position: relative;}#sk-container-id-1 div.sk-item::before, #sk-container-id-1 div.sk-parallel-item::before {content: \"\";position: absolute;border-left: 1px solid gray;box-sizing: border-box;top: 0;bottom: 0;left: 50%;z-index: -1;}#sk-container-id-1 div.sk-parallel-item {display: flex;flex-direction: column;z-index: 1;position: relative;background-color: white;}#sk-container-id-1 div.sk-parallel-item:first-child::after {align-self: flex-end;width: 50%;}#sk-container-id-1 div.sk-parallel-item:last-child::after {align-self: flex-start;width: 50%;}#sk-container-id-1 div.sk-parallel-item:only-child::after {width: 0;}#sk-container-id-1 div.sk-dashed-wrapped {border: 1px dashed gray;margin: 0 0.4em 0.5em 0.4em;box-sizing: border-box;padding-bottom: 0.4em;background-color: white;}#sk-container-id-1 div.sk-label label {font-family: monospace;font-weight: bold;display: inline-block;line-height: 1.2em;}#sk-container-id-1 div.sk-label-container {text-align: center;}#sk-container-id-1 div.sk-container {/* jupyter's `normalize.less` sets `[hidden] { display: none; }` but bootstrap.min.css set `[hidden] { display: none !important; }` so we also need the `!important` here to be able to override the default hidden behavior on the sphinx rendered scikit-learn.org. See: https://github.com/scikit-learn/scikit-learn/issues/21755 */display: inline-block !important;position: relative;}#sk-container-id-1 div.sk-text-repr-fallback {display: none;}</style><div id=\"sk-container-id-1\" class=\"sk-top-container\"><div class=\"sk-text-repr-fallback\"><pre>LogisticRegression(max_iter=1000000)</pre><b>In a Jupyter environment, please rerun this cell to show the HTML representation or trust the notebook. <br />On GitHub, the HTML representation is unable to render, please try loading this page with nbviewer.org.</b></div><div class=\"sk-container\" hidden><div class=\"sk-item\"><div class=\"sk-estimator sk-toggleable\"><input class=\"sk-toggleable__control sk-hidden--visually\" id=\"sk-estimator-id-1\" type=\"checkbox\" checked><label for=\"sk-estimator-id-1\" class=\"sk-toggleable__label sk-toggleable__label-arrow\">LogisticRegression</label><div class=\"sk-toggleable__content\"><pre>LogisticRegression(max_iter=1000000)</pre></div></div></div></div></div>"
      ],
      "text/plain": [
       "LogisticRegression(max_iter=1000000)"
      ]
     },
     "execution_count": 7,
     "metadata": {},
     "output_type": "execute_result"
    }
   ],
   "source": [
    "from sklearn.linear_model import LogisticRegression\n",
    "model = LogisticRegression(max_iter = 1000000)\n",
    "\n",
    "#training the model\n",
    "model.fit(X_train, y_train)"
   ]
  },
  {
   "cell_type": "code",
   "execution_count": 8,
   "id": "64807fec-bdc7-4ac5-86bb-c2c071a66ccd",
   "metadata": {},
   "outputs": [
    {
     "data": {
      "text/plain": [
       "0.4534979423868313"
      ]
     },
     "execution_count": 8,
     "metadata": {},
     "output_type": "execute_result"
    }
   ],
   "source": [
    "from sklearn.metrics import accuracy_score, classification_report\n",
    "\n",
    "#Evaluate model\n",
    "y_pred = model.predict(X_test)\n",
    "accuracy_score(y_pred, y_test)"
   ]
  },
  {
   "cell_type": "code",
   "execution_count": 9,
   "id": "3c822187-a42a-4305-af06-17a06c2dcc05",
   "metadata": {},
   "outputs": [
    {
     "name": "stdout",
     "output_type": "stream",
     "text": [
      "                                                 precision    recall  f1-score   support\n",
      "\n",
      "                               Action/Adventure       0.42      0.22      0.29       167\n",
      "                       Anime/Animation/Cartoons       0.28      0.30      0.29       136\n",
      "                                 Comedy/Romance       0.22      0.03      0.05       139\n",
      "  Drama/Thriller/Horror/Suspense/Sci-Fi/Fantasy       0.30      0.61      0.40       149\n",
      "                                    Family/Kids       0.41      0.51      0.46        72\n",
      "                 Other/Documentaries/Docuseries       0.31      0.19      0.24       154\n",
      "TV shows/Reality/International/Lifestyle/Sports       0.66      0.78      0.71       398\n",
      "\n",
      "                                       accuracy                           0.45      1215\n",
      "                                      macro avg       0.37      0.38      0.35      1215\n",
      "                                   weighted avg       0.43      0.45      0.42      1215\n",
      "\n"
     ]
    }
   ],
   "source": [
    "print(classification_report(y_test, y_pred))"
   ]
  },
  {
   "cell_type": "markdown",
   "id": "24902e16-8dee-49fa-b341-a598ef250999",
   "metadata": {},
   "source": [
    "#### Visualizing Feature Importance of each column on predicting the genre "
   ]
  },
  {
   "cell_type": "code",
   "execution_count": 10,
   "id": "adc77ae1-a55f-48d2-9440-e01a4837afc9",
   "metadata": {},
   "outputs": [
    {
     "data": {
      "image/png": "[encoded data removed]",
      "text/plain": [
       "<Figure size 1000x500 with 1 Axes>"
      ]
     },
     "metadata": {},
     "output_type": "display_data"
    }
   ],
   "source": [
    "import matplotlib.pyplot as plt\n",
    "\n",
    "feature_names =  X.columns\n",
    "coefficients = model.coef_[0]\n",
    "\n",
    "coef_df = pd.DataFrame({'Feature': feature_names, 'Coefficient': coefficients})\n",
    "\n",
    "#Plot\n",
    "plt.figure(figsize=(10, 5))\n",
    "plt.barh(coef_df['Feature'], coef_df['Coefficient'], color='purple')\n",
    "plt.xlabel('Coefficient')\n",
    "plt.ylabel('Features')\n",
    "plt.title('Feature Importance of each column on Predicting TV shows Genre (Logistic Regression Coefficients)')\n",
    "plt.show()"
   ]
  },
  {
   "cell_type": "markdown",
   "id": "32e17cb0-424e-4474-a4e4-56dbd0df92c4",
   "metadata": {},
   "source": [
    "The plot of the model on feature importance shows that the Streaming Platforms Disney Plus and Hulu, ratings of shows for children over age of 7 (TV-Y7-FV and TV-Y7), teenagers (TV-14) and mature audiences (TV-MA) seems to be the most influential parameters in the predicting the genre for TV Shows."
   ]
  },
  {
   "cell_type": "code",
   "execution_count": 11,
   "id": "17a2fd37-e670-4c13-b74c-14817b3aed34",
   "metadata": {},
   "outputs": [
    {
     "name": "stdout",
     "output_type": "stream",
     "text": [
      "<class 'pandas.core.frame.DataFrame'>\n",
      "RangeIndex: 6075 entries, 0 to 6074\n",
      "Data columns (total 15 columns):\n",
      " #   Column                           Non-Null Count  Dtype\n",
      "---  ------                           --------------  -----\n",
      " 0   release_year                     6075 non-null   int64\n",
      " 1   duration_seasons                 6075 non-null   int64\n",
      " 2   rating_R                         6075 non-null   int32\n",
      " 3   rating_TV-14                     6075 non-null   int32\n",
      " 4   rating_TV-G                      6075 non-null   int32\n",
      " 5   rating_TV-MA                     6075 non-null   int32\n",
      " 6   rating_TV-NR                     6075 non-null   int32\n",
      " 7   rating_TV-PG                     6075 non-null   int32\n",
      " 8   rating_TV-Y                      6075 non-null   int32\n",
      " 9   rating_TV-Y7                     6075 non-null   int32\n",
      " 10  rating_TV-Y7-FV                  6075 non-null   int32\n",
      " 11  streaming_platform_Amazon Prime  6075 non-null   int32\n",
      " 12  streaming_platform_DisneyPlus    6075 non-null   int32\n",
      " 13  streaming_platform_Hulu          6075 non-null   int32\n",
      " 14  streaming_platform_Netflix       6075 non-null   int32\n",
      "dtypes: int32(13), int64(2)\n",
      "memory usage: 403.5 KB\n"
     ]
    }
   ],
   "source": [
    "X.info()"
   ]
  },
  {
   "cell_type": "markdown",
   "id": "50433b79-bed4-4015-9a6f-541395414a59",
   "metadata": {},
   "source": [
    "#### Testing the prediction of the model using test cases"
   ]
  },
  {
   "cell_type": "code",
   "execution_count": 12,
   "id": "99e7f999-7af9-404f-a8c3-0cd082fa615b",
   "metadata": {},
   "outputs": [
    {
     "name": "stdout",
     "output_type": "stream",
     "text": [
      "['TV shows/Reality/International/Lifestyle/Sports']\n"
     ]
    }
   ],
   "source": [
    "#Case 1\n",
    "from sklearn.metrics import accuracy_score, classification_report\n",
    "test = {'release_year': 2022, 'duration_seasons': 10, 'rating_R' : 0, \n",
    "        'rating_TV-14' : 1, 'rating_TV-G' : 0, 'rating_TV-MA': 0, 'rating_TV-NR' : 0, 'rating_TV-PG' : 0,  'rating_TV-Y' : 0, \n",
    "        'rating_TV-Y7' : 0, 'rating_TV-Y7-FV' : 0, 'streaming_platform_Amazon Prime' : 0,  'streaming_platform_DisneyPlus' : 0,\n",
    "        'streaming_platform_Hulu' : 0, 'streaming_platform_Netflix': 1}\n",
    "X_test = pd.DataFrame(data = test, index= [0])\n",
    "X_test\n",
    "# Evaluate model\n",
    "y_pred = model.predict(X_test)\n",
    "print(y_pred)"
   ]
  },
  {
   "cell_type": "code",
   "execution_count": 13,
   "id": "cc622cc3-be1b-4390-9ad0-3c0b785ff5c2",
   "metadata": {},
   "outputs": [
    {
     "name": "stdout",
     "output_type": "stream",
     "text": [
      "['Action/Adventure']\n"
     ]
    }
   ],
   "source": [
    "#Case 2\n",
    "\n",
    "from sklearn.metrics import accuracy_score, classification_report\n",
    "test = {'release_year': 2019, 'duration_seasons': 10, 'rating_R' : 0, \n",
    "        'rating_TV-14' : 0, 'rating_TV-G' : 0, 'rating_TV-MA': 0, 'rating_TV-NR' : 0, 'rating_TV-PG' : 0,  'rating_TV-Y' : 0, \n",
    "        'rating_TV-Y7' : 1, 'rating_TV-Y7-FV' : 0, 'streaming_platform_Amazon Prime' : 0,  'streaming_platform_DisneyPlus' : 1,\n",
    "        'streaming_platform_Hulu' : 0, 'streaming_platform_Netflix': 0}\n",
    "X_test = pd.DataFrame(data = test, index= [0])\n",
    "X_test\n",
    "# Evaluate model\n",
    "y_pred = model.predict(X_test)\n",
    "print(y_pred)"
   ]
  },
  {
   "cell_type": "code",
   "execution_count": 14,
   "id": "982809b4-4b8b-4113-b90a-749da52b5e56",
   "metadata": {},
   "outputs": [
    {
     "name": "stdout",
     "output_type": "stream",
     "text": [
      "['Drama/Thriller/Horror/Suspense/Sci-Fi/Fantasy']\n"
     ]
    }
   ],
   "source": [
    "#Case 3\n",
    "\n",
    "from sklearn.metrics import accuracy_score, classification_report\n",
    "test = {'release_year': 2000, 'duration_seasons': 6, 'rating_R' : 0, \n",
    "        'rating_TV-14' : 0, 'rating_TV-G' : 0, 'rating_TV-MA': 1, 'rating_TV-NR' : 0, 'rating_TV-PG' : 0,  'rating_TV-Y' : 0, \n",
    "        'rating_TV-Y7' : 0, 'rating_TV-Y7-FV' : 0, 'streaming_platform_Amazon Prime' : 0,  'streaming_platform_DisneyPlus' : 0,\n",
    "        'streaming_platform_Hulu' : 1, 'streaming_platform_Netflix': 0}\n",
    "X_test = pd.DataFrame(data = test, index= [0])\n",
    "X_test\n",
    "# Evaluate model\n",
    "y_pred = model.predict(X_test)\n",
    "print(y_pred)"
   ]
  },
  {
   "cell_type": "markdown",
   "id": "5006ffa3-a38e-4c18-a009-97a463362d01",
   "metadata": {},
   "source": [
    "#### Movies Genre Classification System"
   ]
  },
  {
   "cell_type": "code",
   "execution_count": 15,
   "id": "6690d971-a527-43a6-a73e-7a2beb54ce36",
   "metadata": {},
   "outputs": [
    {
     "name": "stdout",
     "output_type": "stream",
     "text": [
      "<class 'pandas.core.frame.DataFrame'>\n",
      "RangeIndex: 13952 entries, 0 to 13951\n",
      "Data columns (total 9 columns):\n",
      " #   Column              Non-Null Count  Dtype  \n",
      "---  ------              --------------  -----  \n",
      " 0   type                13952 non-null  object \n",
      " 1   title               13952 non-null  object \n",
      " 2   release_year        13952 non-null  int64  \n",
      " 3   rating              13952 non-null  object \n",
      " 4   listed_in           13952 non-null  object \n",
      " 5   streaming_platform  13952 non-null  object \n",
      " 6   duration_minutes    13952 non-null  float64\n",
      " 7   date_added          13952 non-null  object \n",
      " 8   Genre               13952 non-null  object \n",
      "dtypes: float64(1), int64(1), object(7)\n",
      "memory usage: 981.1+ KB\n"
     ]
    }
   ],
   "source": [
    "movies_df.info()"
   ]
  },
  {
   "cell_type": "markdown",
   "id": "9190efc6-b1e9-43ce-81c9-257d6591a8d1",
   "metadata": {},
   "source": [
    "#### Data Transformation\n",
    "\n",
    "Converting categorical data into numeric data types"
   ]
  },
  {
   "cell_type": "code",
   "execution_count": 16,
   "id": "5836a2e0-de49-44cf-aefe-1456625a592f",
   "metadata": {},
   "outputs": [
    {
     "data": {
      "text/plain": [
       "type                   object\n",
       "title                  object\n",
       "release_year            int64\n",
       "rating                 object\n",
       "listed_in              object\n",
       "streaming_platform     object\n",
       "duration_minutes      float64\n",
       "date_added             object\n",
       "Genre                  object\n",
       "dtype: object"
      ]
     },
     "execution_count": 16,
     "metadata": {},
     "output_type": "execute_result"
    }
   ],
   "source": [
    "movies_df.dtypes"
   ]
  },
  {
   "cell_type": "code",
   "execution_count": 17,
   "id": "fec3e740-d255-465d-be90-760982e6102f",
   "metadata": {},
   "outputs": [
    {
     "data": {
      "text/html": [
       "<div>\n",
       "<style scoped>\n",
       "    .dataframe tbody tr th:only-of-type {\n",
       "        vertical-align: middle;\n",
       "    }\n",
       "\n",
       "    .dataframe tbody tr th {\n",
       "        vertical-align: top;\n",
       "    }\n",
       "\n",
       "    .dataframe thead th {\n",
       "        text-align: right;\n",
       "    }\n",
       "</style>\n",
       "<table border=\"1\" class=\"dataframe\">\n",
       "  <thead>\n",
       "    <tr style=\"text-align: right;\">\n",
       "      <th></th>\n",
       "      <th>type</th>\n",
       "      <th>title</th>\n",
       "      <th>release_year</th>\n",
       "      <th>listed_in</th>\n",
       "      <th>duration_minutes</th>\n",
       "      <th>date_added</th>\n",
       "      <th>Genre</th>\n",
       "      <th>rating_16+</th>\n",
       "      <th>rating_18+</th>\n",
       "      <th>rating_7+</th>\n",
       "      <th>rating_G</th>\n",
       "      <th>rating_NR</th>\n",
       "      <th>rating_PG</th>\n",
       "      <th>rating_PG-13</th>\n",
       "      <th>rating_R</th>\n",
       "      <th>rating_TV-Y</th>\n",
       "      <th>streaming_platform_Amazon Prime</th>\n",
       "      <th>streaming_platform_DisneyPlus</th>\n",
       "      <th>streaming_platform_Hulu</th>\n",
       "      <th>streaming_platform_Netflix</th>\n",
       "    </tr>\n",
       "  </thead>\n",
       "  <tbody>\n",
       "    <tr>\n",
       "      <th>0</th>\n",
       "      <td>Movie</td>\n",
       "      <td>Take Care Good Night</td>\n",
       "      <td>2018</td>\n",
       "      <td>Drama, International</td>\n",
       "      <td>110.0</td>\n",
       "      <td>November 12, 2019</td>\n",
       "      <td>Drama/Thriller/Horror/Suspense/Sci-Fi/Fantasy</td>\n",
       "      <td>0</td>\n",
       "      <td>0</td>\n",
       "      <td>0</td>\n",
       "      <td>0</td>\n",
       "      <td>0</td>\n",
       "      <td>0</td>\n",
       "      <td>1</td>\n",
       "      <td>0</td>\n",
       "      <td>0</td>\n",
       "      <td>1</td>\n",
       "      <td>0</td>\n",
       "      <td>0</td>\n",
       "      <td>0</td>\n",
       "    </tr>\n",
       "    <tr>\n",
       "      <th>1</th>\n",
       "      <td>Movie</td>\n",
       "      <td>Zoombies</td>\n",
       "      <td>2016</td>\n",
       "      <td>Horror, Science Fiction</td>\n",
       "      <td>87.0</td>\n",
       "      <td>November 12, 2019</td>\n",
       "      <td>Drama/Thriller/Horror/Suspense/Sci-Fi/Fantasy</td>\n",
       "      <td>0</td>\n",
       "      <td>0</td>\n",
       "      <td>0</td>\n",
       "      <td>0</td>\n",
       "      <td>0</td>\n",
       "      <td>0</td>\n",
       "      <td>1</td>\n",
       "      <td>0</td>\n",
       "      <td>0</td>\n",
       "      <td>1</td>\n",
       "      <td>0</td>\n",
       "      <td>0</td>\n",
       "      <td>0</td>\n",
       "    </tr>\n",
       "    <tr>\n",
       "      <th>2</th>\n",
       "      <td>Movie</td>\n",
       "      <td>Zoe</td>\n",
       "      <td>2018</td>\n",
       "      <td>Science Fiction</td>\n",
       "      <td>104.0</td>\n",
       "      <td>November 12, 2019</td>\n",
       "      <td>Drama/Thriller/Horror/Suspense/Sci-Fi/Fantasy</td>\n",
       "      <td>0</td>\n",
       "      <td>0</td>\n",
       "      <td>0</td>\n",
       "      <td>0</td>\n",
       "      <td>0</td>\n",
       "      <td>0</td>\n",
       "      <td>0</td>\n",
       "      <td>1</td>\n",
       "      <td>0</td>\n",
       "      <td>1</td>\n",
       "      <td>0</td>\n",
       "      <td>0</td>\n",
       "      <td>0</td>\n",
       "    </tr>\n",
       "    <tr>\n",
       "      <th>3</th>\n",
       "      <td>Movie</td>\n",
       "      <td>Zis Boom Bah</td>\n",
       "      <td>1941</td>\n",
       "      <td>Arts, Entertainment, and Culture, Comedy, Drama</td>\n",
       "      <td>62.0</td>\n",
       "      <td>November 12, 2019</td>\n",
       "      <td>Other/Documentaries/Docuseries/TV shows/Realit...</td>\n",
       "      <td>0</td>\n",
       "      <td>0</td>\n",
       "      <td>0</td>\n",
       "      <td>0</td>\n",
       "      <td>1</td>\n",
       "      <td>0</td>\n",
       "      <td>0</td>\n",
       "      <td>0</td>\n",
       "      <td>0</td>\n",
       "      <td>1</td>\n",
       "      <td>0</td>\n",
       "      <td>0</td>\n",
       "      <td>0</td>\n",
       "    </tr>\n",
       "    <tr>\n",
       "      <th>4</th>\n",
       "      <td>Movie</td>\n",
       "      <td>Zandalee</td>\n",
       "      <td>1991</td>\n",
       "      <td>Drama</td>\n",
       "      <td>94.0</td>\n",
       "      <td>November 12, 2019</td>\n",
       "      <td>Drama/Thriller/Horror/Suspense/Sci-Fi/Fantasy</td>\n",
       "      <td>0</td>\n",
       "      <td>0</td>\n",
       "      <td>0</td>\n",
       "      <td>0</td>\n",
       "      <td>0</td>\n",
       "      <td>0</td>\n",
       "      <td>0</td>\n",
       "      <td>1</td>\n",
       "      <td>0</td>\n",
       "      <td>1</td>\n",
       "      <td>0</td>\n",
       "      <td>0</td>\n",
       "      <td>0</td>\n",
       "    </tr>\n",
       "  </tbody>\n",
       "</table>\n",
       "</div>"
      ],
      "text/plain": [
       "    type                 title  release_year  \\\n",
       "0  Movie  Take Care Good Night          2018   \n",
       "1  Movie              Zoombies          2016   \n",
       "2  Movie                   Zoe          2018   \n",
       "3  Movie          Zis Boom Bah          1941   \n",
       "4  Movie              Zandalee          1991   \n",
       "\n",
       "                                         listed_in  duration_minutes  \\\n",
       "0                             Drama, International             110.0   \n",
       "1                          Horror, Science Fiction              87.0   \n",
       "2                                  Science Fiction             104.0   \n",
       "3  Arts, Entertainment, and Culture, Comedy, Drama              62.0   \n",
       "4                                            Drama              94.0   \n",
       "\n",
       "          date_added                                              Genre  \\\n",
       "0  November 12, 2019      Drama/Thriller/Horror/Suspense/Sci-Fi/Fantasy   \n",
       "1  November 12, 2019      Drama/Thriller/Horror/Suspense/Sci-Fi/Fantasy   \n",
       "2  November 12, 2019      Drama/Thriller/Horror/Suspense/Sci-Fi/Fantasy   \n",
       "3  November 12, 2019  Other/Documentaries/Docuseries/TV shows/Realit...   \n",
       "4  November 12, 2019      Drama/Thriller/Horror/Suspense/Sci-Fi/Fantasy   \n",
       "\n",
       "   rating_16+  rating_18+  rating_7+  rating_G  rating_NR  rating_PG  \\\n",
       "0           0           0          0         0          0          0   \n",
       "1           0           0          0         0          0          0   \n",
       "2           0           0          0         0          0          0   \n",
       "3           0           0          0         0          1          0   \n",
       "4           0           0          0         0          0          0   \n",
       "\n",
       "   rating_PG-13  rating_R  rating_TV-Y  streaming_platform_Amazon Prime  \\\n",
       "0             1         0            0                                1   \n",
       "1             1         0            0                                1   \n",
       "2             0         1            0                                1   \n",
       "3             0         0            0                                1   \n",
       "4             0         1            0                                1   \n",
       "\n",
       "   streaming_platform_DisneyPlus  streaming_platform_Hulu  \\\n",
       "0                              0                        0   \n",
       "1                              0                        0   \n",
       "2                              0                        0   \n",
       "3                              0                        0   \n",
       "4                              0                        0   \n",
       "\n",
       "   streaming_platform_Netflix  \n",
       "0                           0  \n",
       "1                           0  \n",
       "2                           0  \n",
       "3                           0  \n",
       "4                           0  "
      ]
     },
     "execution_count": 17,
     "metadata": {},
     "output_type": "execute_result"
    }
   ],
   "source": [
    "movies_df = pd.get_dummies(movies_df, columns=['rating', 'streaming_platform'], dtype=int)\n",
    "\n",
    "movies_df.head()"
   ]
  },
  {
   "cell_type": "markdown",
   "id": "801ac77b-a1a2-4a11-9ad4-5bb68f563a38",
   "metadata": {},
   "source": [
    "#### Split the data into Training and Test Data"
   ]
  },
  {
   "cell_type": "code",
   "execution_count": 18,
   "id": "b23a5a9c-91b7-4843-ab7b-ab110e6284bf",
   "metadata": {},
   "outputs": [],
   "source": [
    "from sklearn.model_selection import train_test_split\n",
    "\n",
    "# separate features and target\n",
    "X = movies_df.drop(['type','title','date_added','listed_in','Genre'], axis=1)\n",
    "y = movies_df['Genre']\n",
    "\n",
    "# split data into training set and test set\n",
    "X_train, X_test, y_train, y_test = train_test_split(X, y, test_size=0.2, random_state=1) "
   ]
  },
  {
   "cell_type": "code",
   "execution_count": 19,
   "id": "36d438d0-e4a5-4d98-aeba-e5f5aaa19056",
   "metadata": {},
   "outputs": [
    {
     "data": {
      "text/html": [
       "<style>#sk-container-id-2 {color: black;background-color: white;}#sk-container-id-2 pre{padding: 0;}#sk-container-id-2 div.sk-toggleable {background-color: white;}#sk-container-id-2 label.sk-toggleable__label {cursor: pointer;display: block;width: 100%;margin-bottom: 0;padding: 0.3em;box-sizing: border-box;text-align: center;}#sk-container-id-2 label.sk-toggleable__label-arrow:before {content: \"▸\";float: left;margin-right: 0.25em;color: #696969;}#sk-container-id-2 label.sk-toggleable__label-arrow:hover:before {color: black;}#sk-container-id-2 div.sk-estimator:hover label.sk-toggleable__label-arrow:before {color: black;}#sk-container-id-2 div.sk-toggleable__content {max-height: 0;max-width: 0;overflow: hidden;text-align: left;background-color: #f0f8ff;}#sk-container-id-2 div.sk-toggleable__content pre {margin: 0.2em;color: black;border-radius: 0.25em;background-color: #f0f8ff;}#sk-container-id-2 input.sk-toggleable__control:checked~div.sk-toggleable__content {max-height: 200px;max-width: 100%;overflow: auto;}#sk-container-id-2 input.sk-toggleable__control:checked~label.sk-toggleable__label-arrow:before {content: \"▾\";}#sk-container-id-2 div.sk-estimator input.sk-toggleable__control:checked~label.sk-toggleable__label {background-color: #d4ebff;}#sk-container-id-2 div.sk-label input.sk-toggleable__control:checked~label.sk-toggleable__label {background-color: #d4ebff;}#sk-container-id-2 input.sk-hidden--visually {border: 0;clip: rect(1px 1px 1px 1px);clip: rect(1px, 1px, 1px, 1px);height: 1px;margin: -1px;overflow: hidden;padding: 0;position: absolute;width: 1px;}#sk-container-id-2 div.sk-estimator {font-family: monospace;background-color: #f0f8ff;border: 1px dotted black;border-radius: 0.25em;box-sizing: border-box;margin-bottom: 0.5em;}#sk-container-id-2 div.sk-estimator:hover {background-color: #d4ebff;}#sk-container-id-2 div.sk-parallel-item::after {content: \"\";width: 100%;border-bottom: 1px solid gray;flex-grow: 1;}#sk-container-id-2 div.sk-label:hover label.sk-toggleable__label {background-color: #d4ebff;}#sk-container-id-2 div.sk-serial::before {content: \"\";position: absolute;border-left: 1px solid gray;box-sizing: border-box;top: 0;bottom: 0;left: 50%;z-index: 0;}#sk-container-id-2 div.sk-serial {display: flex;flex-direction: column;align-items: center;background-color: white;padding-right: 0.2em;padding-left: 0.2em;position: relative;}#sk-container-id-2 div.sk-item {position: relative;z-index: 1;}#sk-container-id-2 div.sk-parallel {display: flex;align-items: stretch;justify-content: center;background-color: white;position: relative;}#sk-container-id-2 div.sk-item::before, #sk-container-id-2 div.sk-parallel-item::before {content: \"\";position: absolute;border-left: 1px solid gray;box-sizing: border-box;top: 0;bottom: 0;left: 50%;z-index: -1;}#sk-container-id-2 div.sk-parallel-item {display: flex;flex-direction: column;z-index: 1;position: relative;background-color: white;}#sk-container-id-2 div.sk-parallel-item:first-child::after {align-self: flex-end;width: 50%;}#sk-container-id-2 div.sk-parallel-item:last-child::after {align-self: flex-start;width: 50%;}#sk-container-id-2 div.sk-parallel-item:only-child::after {width: 0;}#sk-container-id-2 div.sk-dashed-wrapped {border: 1px dashed gray;margin: 0 0.4em 0.5em 0.4em;box-sizing: border-box;padding-bottom: 0.4em;background-color: white;}#sk-container-id-2 div.sk-label label {font-family: monospace;font-weight: bold;display: inline-block;line-height: 1.2em;}#sk-container-id-2 div.sk-label-container {text-align: center;}#sk-container-id-2 div.sk-container {/* jupyter's `normalize.less` sets `[hidden] { display: none; }` but bootstrap.min.css set `[hidden] { display: none !important; }` so we also need the `!important` here to be able to override the default hidden behavior on the sphinx rendered scikit-learn.org. See: https://github.com/scikit-learn/scikit-learn/issues/21755 */display: inline-block !important;position: relative;}#sk-container-id-2 div.sk-text-repr-fallback {display: none;}</style><div id=\"sk-container-id-2\" class=\"sk-top-container\"><div class=\"sk-text-repr-fallback\"><pre>LogisticRegression(max_iter=100000)</pre><b>In a Jupyter environment, please rerun this cell to show the HTML representation or trust the notebook. <br />On GitHub, the HTML representation is unable to render, please try loading this page with nbviewer.org.</b></div><div class=\"sk-container\" hidden><div class=\"sk-item\"><div class=\"sk-estimator sk-toggleable\"><input class=\"sk-toggleable__control sk-hidden--visually\" id=\"sk-estimator-id-2\" type=\"checkbox\" checked><label for=\"sk-estimator-id-2\" class=\"sk-toggleable__label sk-toggleable__label-arrow\">LogisticRegression</label><div class=\"sk-toggleable__content\"><pre>LogisticRegression(max_iter=100000)</pre></div></div></div></div></div>"
      ],
      "text/plain": [
       "LogisticRegression(max_iter=100000)"
      ]
     },
     "execution_count": 19,
     "metadata": {},
     "output_type": "execute_result"
    }
   ],
   "source": [
    "from sklearn.linear_model import LogisticRegression\n",
    "model = LogisticRegression(max_iter = 100000)\n",
    "\n",
    "#training the model\n",
    "model.fit(X_train, y_train)"
   ]
  },
  {
   "cell_type": "code",
   "execution_count": 20,
   "id": "7b642f5e-3a47-47b7-962f-624aec5f6acc",
   "metadata": {},
   "outputs": [
    {
     "data": {
      "text/plain": [
       "0.4328197778573988"
      ]
     },
     "execution_count": 20,
     "metadata": {},
     "output_type": "execute_result"
    }
   ],
   "source": [
    "from sklearn.metrics import accuracy_score, classification_report\n",
    "\n",
    "#Evaluate model\n",
    "y_pred = model.predict(X_test)\n",
    "accuracy_score(y_pred, y_test)"
   ]
  },
  {
   "cell_type": "code",
   "execution_count": 21,
   "id": "fbbed6b8-8947-4915-8d26-8ac9344b99b0",
   "metadata": {},
   "outputs": [
    {
     "name": "stdout",
     "output_type": "stream",
     "text": [
      "                                                                                precision    recall  f1-score   support\n",
      "\n",
      "                                                              Action/Adventure       0.33      0.08      0.12       506\n",
      "                                                      Anime/Animation/Cartoons       0.16      0.06      0.08        52\n",
      "                                                                Comedy/Romance       0.39      0.15      0.22       665\n",
      "                                 Drama/Thriller/Horror/Suspense/Sci-Fi/Fantasy       0.45      0.85      0.58      1002\n",
      "                                                                   Family/Kids       0.47      0.36      0.41        69\n",
      "Other/Documentaries/Docuseries/TV shows/Reality/International/Lifestyle/Sports       0.44      0.38      0.41       497\n",
      "\n",
      "                                                                      accuracy                           0.43      2791\n",
      "                                                                     macro avg       0.37      0.31      0.30      2791\n",
      "                                                                  weighted avg       0.40      0.43      0.37      2791\n",
      "\n"
     ]
    }
   ],
   "source": [
    "print(classification_report(y_test, y_pred))"
   ]
  },
  {
   "cell_type": "markdown",
   "id": "db8b6e48-f1d7-4269-b222-34ba500ba7ef",
   "metadata": {},
   "source": [
    "#### Visualizing Feature Importance of each column on predicting the genre"
   ]
  },
  {
   "cell_type": "code",
   "execution_count": 22,
   "id": "5bf86541-1c6b-438f-81a9-7da41b50bdc5",
   "metadata": {},
   "outputs": [
    {
     "data": {
      "image/png": "[encoded data removed]",
      "text/plain": [
       "<Figure size 1000x500 with 1 Axes>"
      ]
     },
     "metadata": {},
     "output_type": "display_data"
    }
   ],
   "source": [
    "import matplotlib.pyplot as plt\n",
    "\n",
    "feature_names =  X.columns\n",
    "coefficients = model.coef_[0]\n",
    "\n",
    "coef_df = pd.DataFrame({'Feature': feature_names, 'Coefficient': coefficients})\n",
    "\n",
    "#Plot\n",
    "plt.figure(figsize=(10, 5))\n",
    "plt.barh(coef_df['Feature'], coef_df['Coefficient'], color='purple')\n",
    "plt.xlabel('Coefficient')\n",
    "plt.ylabel('Features')\n",
    "plt.title('Feature Importance of each column on Predicting Movies Genre (Logistic Regression Coefficients)')\n",
    "plt.show()"
   ]
  },
  {
   "cell_type": "markdown",
   "id": "50a6655e-4de9-43f1-b51c-49ef722bb15d",
   "metadata": {},
   "source": [
    "The plot of the model on feature importance shows that the Streaming Platforms Disney Plus, ratings of shows for teenagers and tweens (16+ and PG-13) and mature audiences (18+ and R) seems to be the most influential parameters in the predicting the genre for Movies."
   ]
  },
  {
   "cell_type": "code",
   "execution_count": 23,
   "id": "01fa7310-6591-49cc-8c39-4acb46fabc74",
   "metadata": {},
   "outputs": [
    {
     "name": "stdout",
     "output_type": "stream",
     "text": [
      "<class 'pandas.core.frame.DataFrame'>\n",
      "RangeIndex: 13952 entries, 0 to 13951\n",
      "Data columns (total 15 columns):\n",
      " #   Column                           Non-Null Count  Dtype  \n",
      "---  ------                           --------------  -----  \n",
      " 0   release_year                     13952 non-null  int64  \n",
      " 1   duration_minutes                 13952 non-null  float64\n",
      " 2   rating_16+                       13952 non-null  int32  \n",
      " 3   rating_18+                       13952 non-null  int32  \n",
      " 4   rating_7+                        13952 non-null  int32  \n",
      " 5   rating_G                         13952 non-null  int32  \n",
      " 6   rating_NR                        13952 non-null  int32  \n",
      " 7   rating_PG                        13952 non-null  int32  \n",
      " 8   rating_PG-13                     13952 non-null  int32  \n",
      " 9   rating_R                         13952 non-null  int32  \n",
      " 10  rating_TV-Y                      13952 non-null  int32  \n",
      " 11  streaming_platform_Amazon Prime  13952 non-null  int32  \n",
      " 12  streaming_platform_DisneyPlus    13952 non-null  int32  \n",
      " 13  streaming_platform_Hulu          13952 non-null  int32  \n",
      " 14  streaming_platform_Netflix       13952 non-null  int32  \n",
      "dtypes: float64(1), int32(13), int64(1)\n",
      "memory usage: 926.6 KB\n"
     ]
    }
   ],
   "source": [
    "X.info()"
   ]
  },
  {
   "cell_type": "markdown",
   "id": "677d399c-82ea-4773-ba7a-ab79daffc432",
   "metadata": {},
   "source": [
    "#### Testing the prediction of the model using test cases"
   ]
  },
  {
   "cell_type": "code",
   "execution_count": 24,
   "id": "b2aef21c-8ca9-4320-b162-3847592896f6",
   "metadata": {},
   "outputs": [
    {
     "name": "stdout",
     "output_type": "stream",
     "text": [
      "['Drama/Thriller/Horror/Suspense/Sci-Fi/Fantasy']\n"
     ]
    }
   ],
   "source": [
    "#Case 1\n",
    "from sklearn.metrics import accuracy_score, classification_report\n",
    "test = {'release_year': 2002, 'duration_minutes': 120, 'rating_16+' : 0, \n",
    "        'rating_18+' : 0, 'rating_7+' : 0, 'rating_G': 0, 'rating_NR' : 0, 'rating_PG' : 0,  'rating_PG-13' : 1, \n",
    "        'rating_R' : 0, 'rating_TV-Y' : 0, 'streaming_platform_Amazon Prime' : 0,  'streaming_platform_DisneyPlus' : 0,\n",
    "        'streaming_platform_Hulu' : 0, 'streaming_platform_Netflix': 1}\n",
    "X_test = pd.DataFrame(data = test, index= [0])\n",
    "X_test\n",
    "# Evaluate model\n",
    "y_pred = model.predict(X_test)\n",
    "print(y_pred)"
   ]
  },
  {
   "cell_type": "code",
   "execution_count": 25,
   "id": "3b57ab2c-94df-4a80-ae3f-4e5b421df751",
   "metadata": {},
   "outputs": [
    {
     "name": "stdout",
     "output_type": "stream",
     "text": [
      "['Family/Kids']\n"
     ]
    }
   ],
   "source": [
    "#Case 2\n",
    "\n",
    "from sklearn.metrics import accuracy_score, classification_report\n",
    "test = {'release_year': 1960, 'duration_minutes': 50, 'rating_16+' : 0, \n",
    "        'rating_18+' : 0, 'rating_7+' : 0, 'rating_G': 1, 'rating_NR' : 0, 'rating_PG' : 0,  'rating_PG-13' : 0, \n",
    "        'rating_R' : 0, 'rating_TV-Y' : 0, 'streaming_platform_Amazon Prime' : 0,  'streaming_platform_DisneyPlus' : 0,\n",
    "        'streaming_platform_Hulu' : 0, 'streaming_platform_Netflix': 1}\n",
    "X_test = pd.DataFrame(data = test, index= [0])\n",
    "X_test\n",
    "# Evaluate model\n",
    "y_pred = model.predict(X_test)\n",
    "print(y_pred)"
   ]
  },
  {
   "cell_type": "code",
   "execution_count": 26,
   "id": "319bb8a7-ee5e-4373-9d38-45b898c69615",
   "metadata": {},
   "outputs": [
    {
     "name": "stdout",
     "output_type": "stream",
     "text": [
      "['Comedy/Romance']\n"
     ]
    }
   ],
   "source": [
    "#Case 3\n",
    "\n",
    "from sklearn.metrics import accuracy_score, classification_report\n",
    "test = {'release_year': 2024, 'duration_minutes': 115, 'rating_16+' : 0, \n",
    "        'rating_18+' : 0, 'rating_7+' : 0, 'rating_G': 0, 'rating_NR' : 0, 'rating_PG' : 1,  'rating_PG-13' : 0, \n",
    "        'rating_R' : 0, 'rating_TV-Y' : 0, 'streaming_platform_Amazon Prime' : 0,  'streaming_platform_DisneyPlus' : 0,\n",
    "        'streaming_platform_Hulu' : 0, 'streaming_platform_Netflix': 1}\n",
    "X_test = pd.DataFrame(data = test, index= [0])\n",
    "X_test\n",
    "# Evaluate model\n",
    "y_pred = model.predict(X_test)\n",
    "print(y_pred)"
   ]
  },
  {
   "cell_type": "markdown",
   "id": "3bd80cb0-480e-4035-b8f0-64b305a688e6",
   "metadata": {},
   "source": [
    "#### Interpretation and Conclusion"
   ]
  },
  {
   "cell_type": "markdown",
   "id": "83a4aed5-c746-463b-8a73-149e91eb1499",
   "metadata": {},
   "source": [
    "The model predicts the accuracy of the data to be 45% for TV shows and 43% for movies. This suggests that the model is not highly reliable and requires more data in different genres to improve the accuracy of the prediction."
   ]
  }
 ],
 "metadata": {
  "kernelspec": {
   "display_name": "Python 3 (ipykernel)",
   "language": "python",
   "name": "python3"
  },
  "language_info": {
   "codemirror_mode": {
    "name": "ipython",
    "version": 3
   },
   "file_extension": ".py",
   "mimetype": "text/x-python",
   "name": "python",
   "nbconvert_exporter": "python",
   "pygments_lexer": "ipython3",
   "version": "3.11.7"
  }
 },
 "nbformat": 4,
 "nbformat_minor": 5
}
